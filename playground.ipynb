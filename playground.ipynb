{
 "cells": [
  {
   "cell_type": "code",
   "execution_count": 41,
   "metadata": {},
   "outputs": [
    {
     "data": {
      "text/plain": [
       "True"
      ]
     },
     "execution_count": 41,
     "metadata": {},
     "output_type": "execute_result"
    }
   ],
   "source": [
    "import nest_asyncio\n",
    "nest_asyncio.apply()\n",
    "\n",
    "from dotenv import load_dotenv\n",
    "load_dotenv()\n"
   ]
  },
  {
   "cell_type": "code",
   "execution_count": null,
   "metadata": {},
   "outputs": [
    {
     "name": "stderr",
     "output_type": "stream",
     "text": [
      "Loading files: 100%|██████████| 124/124 [00:00<00:00, 425.29file/s]\n"
     ]
    }
   ],
   "source": [
    "from llama_index.core import SimpleDirectoryReader\n",
    "\n",
    "text_directory = r\"./kwikly_scraper/output/\"\n",
    "reader = SimpleDirectoryReader(input_dir=text_directory, recursive=True)\n",
    "documents_list = reader.load_data(show_progress=True)"
   ]
  },
  {
   "cell_type": "code",
   "execution_count": 75,
   "metadata": {},
   "outputs": [
    {
     "name": "stdout",
     "output_type": "stream",
     "text": [
      "Doc ID: 44d91c52-0602-4929-a4c1-971803c52ea5\n",
      "Text: ---  url: https://joinkwikly.com/5-tips-for-choosing-the-best-\n",
      "dental-temp-agency/  title: 5 Tips for Choosing the Best Dental Temp\n",
      "Agency | A Kwikly Guide  date_scraped: Thu, 21 Nov 2024 02:04:34 GMT\n",
      "---  * Home » 5 Tips for Choosing the Best Dental Temp Agency\n",
      "Doc ID: 2c7c0751-afd8-486c-9d91-ecae9ef676f3\n",
      "Text: 5 Tips for Choosing the Best Dental Temp Agency | A Kwikly Guide\n",
      "When you’re a dental practice manager and get a text notification at 5\n",
      "a.m., you know what it means before you even look at your phone.\n",
      "Someone is calling in sick, and suddenly you’re scrambling. Until now,\n",
      "you had three options:    * Spend the first hour of your workday\n",
      "calling pa...\n",
      "Doc ID: 5d1361f7-7a02-4ce3-8802-2fc24b2d0ed1\n",
      "Text: Kinds of Temp Dental Agencies There are two common categories of\n",
      "dental temping agencies:    * Traditional dental staffing agencies\n",
      "* Online temping platforms  Traditional dental staffing agencies are\n",
      "often locally operated with connections to dental professionals in a\n",
      "specific area. These agencies usually rely on manual outreach (phone\n",
      "calls...\n",
      "Doc ID: 1318455d-fab5-4153-afe6-98caa2af00c2\n",
      "Text: 1: High-quality temporary dental talent in your area Practice\n",
      "managers rely on temporary dental staffing agencies to find\n",
      "professionals with the required experience, certifications, and\n",
      "licenses. That’s table stakes. But finding a fit for your practice is\n",
      "equally important. You want temp dental hygienists and assistants who\n",
      "will:    * Show up on...\n",
      "Doc ID: 6eb2d6be-8c0b-48cb-82cc-56f1b986d687\n",
      "Text: 2: Strong value relative to the cost When you need temp dental\n",
      "talent, paying an agency’s fee is the trade-off for preserving your\n",
      "production value. This is especially important for dental practices\n",
      "where lost hygiene appointments can lead to lost treatment diagnosing\n",
      "and unwanted openings on the dentist’s schedule.  In addition to\n",
      "finding someo...\n"
     ]
    }
   ],
   "source": [
    "for doc in docs[:5]:\n",
    "    print(doc)"
   ]
  },
  {
   "cell_type": "code",
   "execution_count": 19,
   "metadata": {},
   "outputs": [],
   "source": [
    "from llama_index.llms.openai import OpenAI\n",
    "from llama_index.core.evaluation import DatasetGenerator\n",
    "\n",
    "gpt_4o_mini = OpenAI(model='gpt-4o-mini', temperature=0.5,\n",
    "                     system_prompt=\"You are a helpful bot that answers questions for dental hygienists looking for temp work.\")"
   ]
  },
  {
   "cell_type": "code",
   "execution_count": 20,
   "metadata": {},
   "outputs": [
    {
     "name": "stderr",
     "output_type": "stream",
     "text": [
      "Parsing nodes: 100%|██████████| 959/959 [00:00<00:00, 2935.39it/s]\n",
      "c:\\Users\\georg\\virtual-environments\\conversifai-demos-venv\\lib\\site-packages\\llama_index\\core\\evaluation\\dataset_generation.py:200: DeprecationWarning: Call to deprecated class DatasetGenerator. (Deprecated in favor of `RagDatasetGenerator` which should be used instead.)\n",
      "  return cls(\n",
      "100%|██████████| 200/200 [00:06<00:00, 29.72it/s] \n",
      "c:\\Users\\georg\\virtual-environments\\conversifai-demos-venv\\lib\\site-packages\\llama_index\\core\\evaluation\\dataset_generation.py:296: DeprecationWarning: Call to deprecated class QueryResponseDataset. (Deprecated in favor of `LabelledRagDataset` which should be used instead.)\n",
      "  return QueryResponseDataset(queries=queries, responses=responses_dict)\n"
     ]
    }
   ],
   "source": [
    "data_generator = DatasetGenerator.from_documents(documents=documents_list,\n",
    "                                                 num_questions_per_chunk=1,\n",
    "                                                 llm=gpt_4o_mini,\n",
    "                                                 show_progress=True)\n",
    "\n",
    "eval_questions = data_generator.generate_questions_from_nodes(num=200)"
   ]
  },
  {
   "cell_type": "code",
   "execution_count": 21,
   "metadata": {},
   "outputs": [
    {
     "data": {
      "text/plain": [
       "['Discuss how economic trends and population shifts have influenced the evolution of dental employment in the USA, as mentioned in the article.',\n",
       " 'What are the potential risks associated with classifying dental hygienists and assistants as independent contractors according to the document?',\n",
       " 'What are the implications of classifying a temporary dental professional as an independent contractor versus an employee in the context of staffing challenges faced by dental practices?',\n",
       " 'Who is the featured dental hygienist highlighted in the Kwikly community, and what is her professional designation?',\n",
       " 'What are some reasons that make a career as a dental hygienist rewarding, according to the provided context?',\n",
       " 'What new feature was introduced in the Kwikly app on May 21, 2023, and what are its primary functions for dental professionals and offices?',\n",
       " 'What are some common tax considerations that dental professionals and practices should be aware of, as outlined in the document?',\n",
       " 'What factors have contributed to the increased demand for dental temp staffing agencies in the dental industry?',\n",
       " 'What are the primary staffing needs addressed by the dental temp agency mentioned in the document?',\n",
       " 'What criteria does Kwikly use to assess the suitability of dental hygienists for temporary staffing positions?',\n",
       " 'What are some of the responsibilities of a dental office manager as mentioned in the article?',\n",
       " 'What are the key differences between a 1099 independent contractor and a W-2 employee in the context of dental offices in the USA?',\n",
       " 'What are the key advantages of utilizing temporary dental hiring agencies for staffing needs in a dental office?',\n",
       " 'What position did Kwikly Dental Staffing achieve on Inc. magazine’s list of fastest-growing companies in the Midwest, as reported on February 28, 2023?',\n",
       " 'Who is the featured dental hygienist highlighted in the Kwikly community, and what state is she from?',\n",
       " 'What recognition did Kwikly Dental Staffing receive from the Financial Times in April 2024, and how does it rank among dental companies?',\n",
       " 'What are some of the rewarding aspects of managing a dental practice, and how might the longer duration in the role affect the perception of the less desirable aspects?',\n",
       " 'What are the three options a dental practice manager has when a staff member calls in sick, as mentioned in the document?',\n",
       " 'What are the responsibilities of a dental office when hiring a 1099 contractor through a temp agency, and how does Kwikly differ in its approach to handling these responsibilities?',\n",
       " 'What is the primary goal of the Dentist and Dental Hygiene Compact as described in the document?']"
      ]
     },
     "execution_count": 21,
     "metadata": {},
     "output_type": "execute_result"
    }
   ],
   "source": [
    "import random\n",
    "\n",
    "random.sample(eval_questions, k=20)"
   ]
  },
  {
   "cell_type": "code",
   "execution_count": 22,
   "metadata": {},
   "outputs": [],
   "source": [
    "from llama_index.core.storage.docstore import SimpleDocumentStore\n",
    "from llama_index.core import StorageContext\n",
    "\n",
    "docstore = SimpleDocumentStore()\n",
    "docstore.add_documents(documents_list)\n",
    "\n",
    "storage_context = StorageContext.from_defaults(docstore=docstore)\n",
    "\n",
    "storage_context.persist(\"./kwikly-docstore.json\")"
   ]
  },
  {
   "cell_type": "code",
   "execution_count": 28,
   "metadata": {},
   "outputs": [],
   "source": [
    "from llama_index.embeddings.huggingface import HuggingFaceEmbedding\n",
    "from llama_index.embeddings.openai import OpenAIEmbedding\n",
    "from llama_index.llms.openai import OpenAI\n",
    "from llama_index.core import Settings\n",
    "\n",
    "# Settings.embed_model = HuggingFaceEmbedding(model_name='pingkeest/learning2_model',\n",
    "#                                             trust_remote_code=True,)\n",
    "\n",
    "Settings.embed_model = OpenAIEmbedding(model=\"text-embedding-3-small\")\n",
    "\n",
    "Settings.llm = OpenAI(model='gpt-4o-mini', temperature=0.3,\n",
    "                      system_prompt=\"\"\"\"You are an intelligent and supportive assistant specifically designed to help dental hygienists find temporary work and dental offices to discover available hygienists to meet their staffing needs. Your role is to provide accurate, helpful, and encouraging responses.\n",
    "\n",
    "Welcome dental hygienists by understanding their skills and availability, helping them navigate job opportunities that suit their preferences.\n",
    "Assist dental offices by helping them articulate their staffing needs and guiding them to potential candidates.\n",
    "Use a friendly, professional tone to facilitate a welcoming environment where both parties feel valued and understood.\n",
    "Ensure all interactions prioritize clarity, confidentiality, and professionalism.\n",
    "Encourage users to ask questions and provide all the necessary information to ensure successful matches.\n",
    "If possible, provide a link to your source so that the user knows you are telling the truth.\"\"\")\n"
   ]
  },
  {
   "cell_type": "code",
   "execution_count": 29,
   "metadata": {},
   "outputs": [
    {
     "name": "stderr",
     "output_type": "stream",
     "text": [
      "WARNING:llama_index.vector_stores.qdrant.base:Both client and aclient are provided. If using `:memory:` mode, the data between clients is not synced.\n",
      "Fetching 5 files: 100%|██████████| 5/5 [00:00<?, ?it/s]\n",
      "Fetching 5 files: 100%|██████████| 5/5 [00:00<00:00, 5007.53it/s]\n",
      "Fetching 5 files: 100%|██████████| 5/5 [00:00<?, ?it/s]\n",
      "Fetching 5 files: 100%|██████████| 5/5 [00:00<?, ?it/s]\n"
     ]
    }
   ],
   "source": [
    "from llama_index.core import VectorStoreIndex, StorageContext, Settings\n",
    "from llama_index.vector_stores.qdrant import QdrantVectorStore\n",
    "from qdrant_client import QdrantClient, AsyncQdrantClient\n",
    "\n",
    "# make sure docker container is running before doing this\n",
    "# run the docker container by doing:\n",
    "# docker start qdrant_dev\n",
    "\n",
    "client = QdrantClient(host=\"localhost\", port=6333)\n",
    "\n",
    "aclient = AsyncQdrantClient(host=\"localhost\", port=6333)\n",
    "\n",
    "vector_store = QdrantVectorStore(\n",
    "    client=client,\n",
    "    collection_name=\"kwikly_support_agent\",\n",
    "    aclient=aclient,\n",
    "    enable_hybrid=True\n",
    ")"
   ]
  },
  {
   "cell_type": "code",
   "execution_count": 30,
   "metadata": {},
   "outputs": [
    {
     "name": "stderr",
     "output_type": "stream",
     "text": [
      "Parsing nodes: 100%|██████████| 959/959 [00:00<00:00, 2420.63it/s]\n",
      "Generating embeddings: 100%|██████████| 989/989 [00:11<00:00, 83.90it/s] \n"
     ]
    }
   ],
   "source": [
    "from llama_index.core.storage.docstore import SimpleDocumentStore\n",
    "from llama_index.core import StorageContext, VectorStoreIndex, Settings\n",
    "\n",
    "docstore = SimpleDocumentStore.from_persist_path(r\"kwikly-docstore\\docstore.json\")\n",
    "documents_list = [doc_item for doc_item in docstore.docs.values()]\n",
    "storage_context = StorageContext.from_defaults(docstore=docstore, vector_store=vector_store)\n",
    "\n",
    "Settings.chunk_size = 512\n",
    "Settings.chunk_overlap = 64\n",
    "\n",
    "index = VectorStoreIndex.from_documents(documents=documents_list,\n",
    "                                        storage_context=storage_context,\n",
    "                                        show_progress=True\n",
    "                                        )\n"
   ]
  },
  {
   "cell_type": "code",
   "execution_count": 32,
   "metadata": {},
   "outputs": [
    {
     "name": "stdout",
     "output_type": "stream",
     "text": [
      "ID: 006a4217-7b27-4ce3-b46a-e6332f6d44c3\n",
      "Vector (embedding): None\n",
      "ID: 00f515a1-d9d9-412b-bb89-bed01838b30b\n",
      "Vector (embedding): None\n",
      "ID: 01da11d7-d7d4-4558-acde-5370bf226cb5\n",
      "Vector (embedding): None\n",
      "ID: 020e5c8c-b20a-4247-b9a0-80abff46a7db\n",
      "Vector (embedding): None\n",
      "ID: 0280698d-fe89-4cbf-8e93-c8097e9411ae\n",
      "Vector (embedding): None\n",
      "ID: 02b0299a-2410-496f-85c6-af39da6b1eca\n",
      "Vector (embedding): None\n",
      "ID: 02df3ea0-58b1-4c6e-bdd9-0a7ed84e7261\n",
      "Vector (embedding): None\n",
      "ID: 02e23e9a-c9b6-41bc-94b7-d8b4369b113a\n",
      "Vector (embedding): None\n",
      "ID: 02e7e6e1-dac3-41ba-93df-a782e5568770\n",
      "Vector (embedding): None\n",
      "ID: 02ed1665-ffbd-42cc-a589-596c1651f906\n",
      "Vector (embedding): None\n"
     ]
    }
   ],
   "source": [
    "# Assuming your vector_store is a Qdrant instance\n",
    "points = vector_store.client.scroll(\n",
    "    collection_name=vector_store.collection_name,\n",
    "    limit=10  # adjust this number as needed\n",
    ")[0]\n",
    "\n",
    "# Each point should have a 'vector' field containing the embedding\n",
    "for point in points:\n",
    "    print(f\"ID: {point.id}\")\n",
    "    print(f\"Vector (embedding): {point.vector}\")  # This should be your ~1500 dimension vector"
   ]
  },
  {
   "cell_type": "code",
   "execution_count": 39,
   "metadata": {},
   "outputs": [],
   "source": [
    "index = VectorStoreIndex.from_vector_store(vector_store=vector_store)\n",
    "query_engine = index.as_query_engine(OpenAI(model='gpt-4o-mini', temperature=0))\n",
    "response = query_engine.query(\"What day was 'title: Continuing Dental Education In The USA: Common Questions' scraped?\")"
   ]
  },
  {
   "cell_type": "code",
   "execution_count": 43,
   "metadata": {},
   "outputs": [],
   "source": [
    "nodes = vector_store.aget_nodes(node_ids=['006a4217-7b27-4ce3-b46a-e6332f6d44c3'])"
   ]
  },
  {
   "cell_type": "code",
   "execution_count": null,
   "metadata": {},
   "outputs": [],
   "source": []
  },
  {
   "cell_type": "code",
   "execution_count": 52,
   "metadata": {},
   "outputs": [
    {
     "name": "stdout",
     "output_type": "stream",
     "text": [
      "ID: 006a4217-7b27-4ce3-b46a-e6332f6d44c3\n",
      "Point attributes: ['__abstractmethods__', '__annotations__', '__class__', '__class_getitem__', '__class_vars__', '__copy__', '__deepcopy__', '__delattr__', '__dict__', '__dir__', '__doc__', '__eq__', '__fields__', '__fields_set__', '__format__', '__ge__', '__get_pydantic_core_schema__', '__get_pydantic_json_schema__', '__getattr__', '__getattribute__', '__getstate__', '__gt__', '__hash__', '__init__', '__init_subclass__', '__iter__', '__le__', '__lt__', '__module__', '__ne__', '__new__', '__pretty__', '__private_attributes__', '__pydantic_complete__', '__pydantic_core_schema__', '__pydantic_custom_init__', '__pydantic_decorators__', '__pydantic_extra__', '__pydantic_fields_set__', '__pydantic_generic_metadata__', '__pydantic_init_subclass__', '__pydantic_parent_namespace__', '__pydantic_post_init__', '__pydantic_private__', '__pydantic_root_model__', '__pydantic_serializer__', '__pydantic_validator__', '__reduce__', '__reduce_ex__', '__repr__', '__repr_args__', '__repr_name__', '__repr_str__', '__rich_repr__', '__setattr__', '__setstate__', '__signature__', '__sizeof__', '__slots__', '__str__', '__subclasshook__', '__weakref__', '_abc_impl', '_calculate_keys', '_check_frozen', '_copy_and_set_values', '_get_value', '_iter', 'construct', 'copy', 'dict', 'from_orm', 'id', 'json', 'model_computed_fields', 'model_config', 'model_construct', 'model_copy', 'model_dump', 'model_dump_json', 'model_extra', 'model_fields', 'model_fields_set', 'model_json_schema', 'model_parametrized_name', 'model_post_init', 'model_rebuild', 'model_validate', 'model_validate_json', 'model_validate_strings', 'order_value', 'parse_file', 'parse_obj', 'parse_raw', 'payload', 'schema', 'schema_json', 'shard_key', 'update_forward_refs', 'validate', 'vector']\n",
      "Point dict: [-0.043448884, 0.049741663, 0.042743888, -0.028983332, -0.015993055, -0.026894443, -0.03039333, -0.00052426214, -0.0072784717, 0.022129165, 0.05363222, -0.04305722, 0.0135516655, -0.029818887, 0.06606111, 0.06318889, 0.0114170825, -0.016397776, -0.04188222, 0.058697775, 0.03765222, -0.02152861, 0.0054049995, 0.020653887, -0.0041157636, 0.0020921526, -0.04049833, 0.0008535069, 0.0045237495, -0.03337, -0.03485833, -0.028173886, -0.02143722, -0.0012484374, 0.001349618, 0.044649996, 0.044127773, 0.010966666, 0.022625277, -0.013473333, -0.011789165, -0.06533, 0.03206444, 0.045146108, -0.04927166, 0.02188111, -0.06867222, 0.03864444, 0.06794111, 0.027834443, -0.018682498, -0.03248222, -0.027364442, 0.012004582, 0.019048054, -0.006331944, -0.0025034025, 0.026672497, -0.028748332, 0.03574611, 0.047626663, -0.05297944, 0.014622221, 0.015692776, -0.0049415273, -0.01494861, -0.063658886, 0.029322775, -0.033030555, 0.019896666, 0.060838886, 0.039662775, 0.024492221, -0.021476388, 0.019139443, 0.0058782636, -0.03196, -0.00054588536, 0.0047587496, -0.037443332, -0.035484996, 0.022690553, -0.014452499, -0.011639027, 0.0007151996, -0.01588861, -0.04540722, -0.005336458, 0.0055518746, 0.061256662, -0.04449333, 0.018081943, 0.036764443, -0.0034401387, 0.017546665, 0.018225554, -0.032560553, 0.016019166, 0.0143611105, 0.03694722, 0.044519443, -0.051229995, -0.01212861, -0.0045629162, 0.012494165, -0.026594166, 0.0029130206, -0.036738332, -0.011377916, -0.06214444, -0.13097332, -0.002105208, -0.026215553, 0.04611222, 0.045955554, -0.020745276, -0.007728888, 0.014217499, -0.02223361, -0.023734998, -0.019465832, 0.023513054, 0.0067236107, -0.030236665, -0.007474305, 0.019061109, -0.009889583, 0.017011387, -0.05859333, -0.07441666, -0.0052613886, -0.013786666, 0.0030860067, -0.059011105, -0.028983332, -0.03417944, -0.06214444, -0.0122461105, -0.023983054, 0.037443332, 0.029505553, -0.007833333, -0.014935555, 0.0074677775, -0.04773111, 0.047496106, 0.023774166, 0.016319443, -0.0007066319, 0.0112408325, -0.017050555, -0.00041104597, -0.06329333, 0.037025552, -0.00045939232, -0.030941665, 0.013329721, -0.027259998, -0.038174443, 0.00875375, -0.0011774478, 0.02117611, -0.0013961283, 0.014021666, -0.026685555, 0.0028836457, 0.0044454164, -0.04008055, -0.023800276, -0.0014328471, 0.0070499997, -0.050786108, -0.009915694, 0.022964722, -0.007794166, 0.022220554, 0.017376943, -0.013669166, -0.0078724995, 0.008655833, 0.003014201, -0.01826472, 0.017324721, -0.003838333, -0.029792776, -0.028408887, 0.024661943, 0.0112408325, -0.03976722, 0.018134166, 0.042665552, -0.004664097, 0.037312776, -0.031202776, -0.014504721, -0.011554166, -0.005574722, -0.036398888, 0.052326664, 0.03201222, -0.040863886, -0.0030060415, 0.01201111, 0.020405833, -0.031829443, 0.035928886, -0.05209166, 0.012370138, -0.030732775, -0.020431943, 0.047600552, 0.028434997, 0.028147776, 0.060995553, -0.0019893402, -0.02505361, -0.03196, 0.022951664, 0.026150277, -0.035302218, 0.0117695825, 0.01412611, 0.0048827776, 0.037312776, -0.025510553, 0.04681722, 0.036398888, -0.002201493, 0.018747777, 0.015993055, 0.035145555, 0.049506664, -0.013159999, -0.0065506245, -0.03867055, 0.02458361, -0.0020382984, -0.011155971, 0.0036784026, -0.022050831, -0.02613722, 0.026006665, -0.015366388, -0.011234305, 0.025131943, -0.021385, 0.0009775347, -0.07258888, -0.040863886, 0.034257777, 0.057809997, -0.026450554, -0.005548611, -0.011025416, 0.013049027, 0.017598888, -0.024805553, 0.046033885, 0.021985553, -0.02355222, 0.04122944, 0.045224443, 0.0035152081, 0.014922499, -0.0031986109, -0.014870277, 0.021424165, 0.02167222, 0.006710555, -0.0035380553, -0.021933332, 0.037991665, 0.07718444, -0.0020872569, -0.011815277, 0.05269222, -0.017677221, -0.04470222, -0.05415444, -0.009667638, -0.008407777, -0.036425, -0.018839166, -0.04237833, -0.015993055, 0.047574442, -0.058802217, 0.059533328, 0.032142777, 0.011253888, -0.037260555, 0.01603222, 0.051595554, 0.018186389, 0.023917776, 0.015340277, 0.020249166, 0.03130722, 0.0024674998, 0.007963888, -0.021698331, 0.01212861, 0.038722776, -0.013016388, 0.01788611, 0.06381555, -0.002549097, -0.040158886, 0.0022945136, 0.02611111, -0.038983885, -0.019048054, -0.0044127773, 0.003258993, -0.050733887, 0.0022325, 0.03488444, -0.030967776, -0.0011970311, -0.04470222, 0.024923055, -0.024544442, 0.0078202775, -0.0020285067, -0.0140086105, -0.023134442, 0.026737776, 0.015509999, 0.005078611, -0.0059565967, 0.0064070136, -0.027573332, -0.0018587846, -0.0054376386, -0.010490138, -0.0041745137, 0.032508332, 0.026972776, -0.038983885, -0.017651109, -0.015092221, -0.036842775, -0.039897773, -0.028043332, 0.02178972, 0.00087309023, 0.02493611, -0.013995554, 0.008446944, -0.0020056595, -0.03203833, 0.022912499, -0.018134166, 0.0085252775, -0.07149222, -0.06820222, -0.0043507637, -0.03365722, -0.015118333, 0.008100972, 0.020392776, 0.017624998, 0.0122983325, -0.026241666, 0.01685472, -0.025745554, -0.021163054, -0.041594997, 0.01673722, 0.004572708, 0.00069072045, -0.0067562493, 0.01755972, -0.029975554, -0.04143833, 0.000264171, 0.008159721, 0.046764996, 0.072797775, 0.05624333, 0.038931664, -0.018982777, -0.03629444, -0.037025552, 0.030314999, 0.016214998, -0.015092221, 0.036816664, -0.07436444, -0.045146108, -0.00444868, -0.009967916, 0.030784998, -0.009615416, 0.013297083, -0.012154722, -0.0056726383, 0.052143887, 0.003688194, -0.024492221, -0.028617775, 0.0050296523, -0.027312221, 0.015901666, 0.04966333, -0.025158053, -0.03572, -0.015718888, -0.00050182285, -0.08063111, -0.01265736, -0.04002833, 0.009445693, -0.012722638, -0.036163885, -0.032795552, 0.0011953992, 0.026267776, -0.009080138, 0.010405277, 0.004510694, -0.043683887, 0.021123888, 0.03295222, -0.014374166, -0.021868054, 0.06188333, -0.04425833, 0.003226354, -0.0067758327, -0.042456664, 0.0020154512, 0.022755831, 0.0055225, -0.003662083, -0.027964998, -0.015118333, -0.016254166, 0.042299997, -0.017481389, -0.006769305, -0.009948333, -0.028304443, 0.020079443, -0.021358887, -0.015444721, 0.04634722, -0.029740553, -0.039897773, -0.014778888, 0.028696109, -0.003959097, 0.00093673606, 0.011710833, -0.012618193, 0.006860694, -0.035902776, 0.011567221, 0.039479997, -0.035484996, 0.03713, -0.011645555, 0.0032377776, 0.008257639, 0.0013063714, -0.012938054, -0.012885832, -0.0029423956, 0.014452499, -0.028408887, 0.01720722, -0.0039395136, 0.0044193054, -0.036163885, -0.03906222, 0.013812777, -0.014139166, -0.059167773, -0.011697777, -0.04684333, -0.00043817706, -0.036111664, -0.026293887, 0.026424443, 0.008871249, 0.08068333, -0.0043834024, 0.03574611, -0.0009889583, 0.027312221, 0.012559444, 0.05415444, 0.03995, -0.015274999, -0.038122218, -0.032899998, 0.022716666, -0.04645166, -0.014439443, -0.013734443, -0.006912916, -0.04149055, 0.010503193, 0.016084444, 0.052587774, 0.0022341318, -0.013695277, -0.0245575, 0.015170555, 0.011116805, -0.021502499, 0.056399997, 0.011984999, 0.011390971, 0.0008339236, 0.015823333, -0.024035277, 0.03979333, -0.04470222, -0.008042222, -0.014739721, 0.0026812844, 0.0122983325, 0.0011480729, -0.05203944, -0.0013708333, -0.051177774, -0.05645222, 0.0052613886, 0.00534625, 0.0062340274, -0.0210325, 0.026620276, 0.006041458, -0.016750276, 0.0015119964, -0.0023238887, -0.030758888, -0.0028461108, -0.014348054, -0.014230555, 0.0182125, 0.0005389496, -0.0026192707, 0.004667361, 0.002868958, 0.026920553, -0.00889736, 0.0062209717, 0.0023287847, -0.0011921354, 0.0029717707, 0.00062013883, -0.0139563875, -0.0060577774, 0.008335971, 0.008375138, -0.0043213884, -0.0024234373, -0.006012083, 0.03109833, -0.04023722, 0.014152221, 0.0035674304, 0.0057183327, 0.042717773, -0.020601666, 0.012533332, 0.014321944, -8.535834e-06, -0.0056759026, 0.002932604, -0.01567972, -0.00913236, 0.017494444, 0.05368444, -0.028434997, -0.010875277, 0.035223886, -0.029792776, -0.047208887, -0.030523887, 0.006276458, 0.013381943, 0.000104444436, 0.03929722, 0.01647611, -0.021123888, -0.028826665, -0.0043213884, 0.031803332, -0.004122291, 0.0029799303, -0.033239443, 0.04846222, -0.017298609, -0.014818055, -0.024439998, 0.0022537152, -0.024387777, -0.035015, -0.038174443, -0.009158472, -0.0034401387, -0.020066388, 0.025144998, 0.02223361, -0.00087145827, -0.008185833, -0.012605138, -0.021580832, -0.0036751386, -0.030915553, -0.0013561457, 0.043109443, 0.018081943, -0.018734721, -0.0026339581, -0.0012737325, -0.029401109, 0.03151611, -0.023447776, 0.023748053, 0.034727775, -0.016541388, 0.055616662, -0.0007600781, -0.050994996, -0.017925277, 0.009197638, 0.017285554, -0.020758333, 0.020209998, -0.019191666, -0.016293332, -0.024152776, 0.018982777, 0.010901388, 0.042508885, -0.0101115275, -0.012572499, 0.019452777, 0.0018734721, -0.05339722, 0.033317775, -0.039662775, -0.017376943, 0.004637986, -0.0045629162, 0.010281249, 0.032116663, -0.06459888, -0.005891319, 0.024100553, 0.022690553, 0.0055029164, -0.021267498, -0.017964443, -0.029583886, 0.025249442, -0.050733887, 0.014269722, 0.010640277, -0.019687776, -0.011580277, -0.018813055, 0.020928053, 0.019753054, -0.005715069, 0.025223332, -0.008962639, 0.016162777, 0.037443332, 0.007892082, 0.024766387, -0.017259443, 0.016724166, -0.035015, 0.0046477774, 0.017350832, -0.064233325, 0.00068786455, -0.059428886, -0.02319972, -0.0030109372, -0.04136, 0.04002833, -0.0014532465, 0.007239305, 0.05222222, 0.030706665, 0.00041777774, 0.033030555, -0.020366665, -0.0029211803, 0.02507972, -0.011723888, -0.0054637496, -0.045851108, -0.01706361, -0.005307083, -0.04047222, -0.007526527, 0.027808331, -0.00807486, -0.02399611, -0.007650555, -0.019217776, 0.011325694, -0.0052874996, -0.00019807725, -0.010849166, -0.004386666, -0.029740553, -0.007950833, -0.014204443, -0.01635861, 0.0045922915, 0.035406664, 0.0047228467, 0.00807486, 0.013101249, 0.021750554, -0.012689999, -0.010744722, 0.0076962495, 0.024688054, -0.02531472, 0.039506108, -0.032534443, 0.0023255206, -0.005480069, -0.025471387, 0.020301387, 0.0076440275, 0.0003751432, -0.05415444, 0.058749996, -0.014191388, 0.0101115275, 0.009008333, -0.007298055, -0.010849166, 0.043709997, 0.02575861, -0.004109236, -0.009184583, -0.0034368748, -0.03788722, 0.0014075519, 0.003776319, 0.009765555, 0.007617916, -0.003544583, 0.026333055, -0.03908833, -0.00052915793, 0.005121041, 0.02752111, 0.060838886, 0.012800971, 0.03104611, 0.02272972, -0.008688471, 0.038774997, -0.00421368, -0.00456618, 0.015588332, -0.047626663, -0.011978472, 0.015470833, -0.02026222, -0.027442776, 0.0006185069, 0.005662847, -0.00053527777, -0.03229944, -0.008114027, 0.03151611, 0.043239996, 0.03104611, 0.0019893402, 0.020079443, 0.028774442, 0.010842638, -0.05013333, 0.020079443, 0.006919444, -0.018656388, -0.02496222, -0.034571107, -0.02646361, 0.022259722, -0.0031317011, 0.011155971, -0.029087776, -0.039845552, -0.083398886, -0.018382221, 0.0015356597, -0.008884305, -0.0029701388, 0.027651664, 0.025549721, -0.0059990273, 0.043370552, -0.02235111, 0.01990972, 0.019700833, -0.018760832, -0.016567498, 0.003283472, -0.011678194, 0.009093194, -0.018995833, -0.014844165, -0.0101833325, -0.05436333, -0.0125986105, -0.023029998, 0.015470833, 0.00037453123, -0.048357774, -0.0068019438, -0.038174443, 0.06449444, -0.0047620134, -4.2991534e-05, 0.0025980554, -0.0051993746, 0.0026894442, -0.017376943, 0.03130722, -0.038774997, 0.016019166, 0.04856666, 0.020523332, 0.0005479253, -0.02707722, 0.010261666, 0.0105358325, 0.0026763887, -0.00077639753, 0.009151944, 0.014374166, -0.014896388, -0.0064755552, 0.008557916, 0.007794166, 0.02108472, 0.005568194, 0.004553125, -0.013368888, -0.03135944, -0.007506944, 0.038983885, -0.0006662413, -0.034936663, -0.021110833, -0.03699944, -0.020444999, -0.04188222, 0.0064886105, -0.021972498, 0.049088884, 0.012859722, -0.009850416, 0.014047776, -0.0047228467, 0.036398888, 0.0008298437, 0.014765833, 0.000111788184, -0.035197776, -0.01786, 0.003981944, -0.019596387, 0.028617775, 0.013682221, -0.010268194, 0.01600611, -0.007036944, -0.0015903298, -0.018003609, -0.017546665, 0.009269443, 0.03906222, 0.05227444, -0.031724997, -0.027573332, -0.011312638, -0.02848722, 0.016410831, -0.010738194, 0.005222222, 0.016528333, 0.024909997, 0.03485833, -0.008420832, 0.04008055, 0.007500416, 0.0001315755, -0.029505553, -0.007911666, -0.026528887, -0.0067236107, 0.008362083, 0.0029081248, 0.031724997, -0.0015552429, 0.024674999, -0.013643054, 0.0076636104, 0.028121665, 0.034597218, -0.013760555, 0.015483888, 0.018891387, 0.037103888, -0.012853193, -0.034936663, -0.01791222, 0.042012773, -0.008290277, 0.026594166, 0.012180832, 0.000703368, 0.0036816665, 0.060212217, 0.007683194, -0.0014507985, 0.01577111, -0.045093887, 0.027207775, -0.025262497, -0.008335971, -0.009687222, 0.002728611, -0.019726943, -0.010157222, 0.0044943746, 0.05151722, 0.0005193663, -0.016058331, 0.03368333, -0.015575277, 0.00012066188, 0.0182125, 0.0050557638, -0.043944996, -0.03433611, -0.0036163887, 0.0007796614, -0.06872444, -0.008708055, 0.0056530554, 0.02705111, -0.03206444, -0.006570208, 0.07081333, -0.012193888, 0.019961944, 0.023003887, 0.005280972, 0.028800553, 0.024883887, 0.03415333, -0.026920553, 0.056765553, 0.040289443, 0.026306942, 0.03699944, 0.06318889, -0.00024479165, 0.008538333, 0.025745554, -0.00018848958, 0.010620694, 0.0076962495, -0.012631249, 0.022338053, 0.03932333, 0.017938333, -0.035432775, 0.0139041655, 0.035249997, 0.03767833, 0.03365722, 0.036555555, 0.0054017357, 0.00020552299, 0.0062013883, -0.0016841666, -0.0031839234, 0.021972498, 0.0024723958, 0.02707722, 0.022808054, 0.020183887, 0.012154722, 0.030784998, 0.0045922915, 0.017990554, -0.04261333, 0.011723888, -0.0022471873, -0.0046347217, -0.0044095134, -0.007526527, -0.028330553, -0.012526805, -0.02199861, 0.030967776, 0.025876109, -0.009948333, -0.009569721, -0.038252775, 0.016867777, 0.014439443, -0.03151611, -0.007134861, 0.005336458, -0.03793944, -0.02214222, -0.022272777, 0.013747499, 0.030445553, -0.034571107, 0.05081222, 0.0013088194, 0.0039134026, 0.007970416, -0.009040971, 0.030210553, -0.002873854, -0.042404443, 0.019152498, -0.012357082, 0.028696109, 0.026385276, -0.02211611, 0.0014720138, 0.013878055, -0.037364997, 0.040132776, -0.0022439235, 0.0030680553, -0.012592083, -0.004099444, 0.04216944, -0.0035217358, -0.014530832, 0.0021623261, 0.03929722, 0.0015348437, -0.002640486, -0.0037469442, -0.0005552691, -0.03556333, -0.0050231246, -0.0051145134, 0.024439998, 0.03318722, 0.018003609, -0.032586664, -0.010490138, 0.009275972, -0.0112408325, 0.0075787497, -0.021868054, -0.00509493, -0.015758054, -0.028539443, 0.0028248955, 0.004905625, 0.023943888, -0.009595833, -0.019335276, 0.0004573524, 0.06188333, 0.03177722, 0.012089443, 0.022338053, 0.0038024304, 0.01647611, 0.007709305, -0.015235832, 0.02011861, 0.024165832, -0.0066648605, -0.015823333, -0.003838333, -0.019687776, -0.007089166, -0.02188111, -0.018251665, -0.009967916, 0.026672497, 0.012755277, 0.019988054, -0.037521664, -2.6060112e-05, -0.014661388, -0.0035413192, -0.021489443, -0.030288886, 0.02331722, 0.013812777, 0.008107499, -0.023356387, 0.0044160415, 0.014909443, 0.008838611, -0.012154722, 0.021685276, -0.011293055, -0.019387498, -0.019478887, -0.0028869095, 0.014047776, -0.034518886, 0.030314999, 0.04049833, -0.0015340276, -0.0075852773, 0.014935555, -0.022795, 0.0048860414, 0.03107222, -0.019348333, 0.009112777, -0.022168333, -0.0019534375, 0.0028281596, -0.017128889, 0.007539583, -0.00063197047, 0.011325694, 0.023460831, -0.02376111, -0.011162499, -0.020418888, -0.031202776, -0.03318722, 0.016267221, 0.0021721178, 0.017115831, 0.081832215, 0.044649996, -0.0047456943, -0.012611666, -0.003808958, -0.032899998, -0.008936527, -0.01553611, 0.016567498, 0.018904444, -0.032612775, 0.0061589577, 0.03365722, 0.02252083, 0.019374443, 0.0016972221, -0.067157775, -0.0086493045, 0.009804722, -0.004778333, 0.013434166, -0.011567221, 0.010757777, -0.0012394617, -0.002407118, -0.014204443, 0.022742776, -0.0001874696, 0.03572, -0.0043213884, 0.0045694443, -0.01265736, 0.025628055, -0.017572777, 0.0012157985, 0.02037972, 0.008022638, 0.0035772219, 0.03133333, 0.008140138, -0.011103749, 0.029557776, -0.0037045137, 0.0057672914, -0.015144443, 0.016528333, 0.0069063883, -0.03856611, 0.0011953992, -0.026633332, -0.008453472, 0.020458054, 0.027259998, -0.035981108, 0.019491943, -0.034283888, -0.012898888, 0.009236805, 0.02634611, 0.006449444, -0.012964166, 0.012357082, -0.0058586802, 0.013336249, 0.014191388, 0.0045596524, -0.0018294096, -0.0064363885, 0.008420832, -0.017011387, -0.003139861, 0.008916944, -0.014282777, 0.012964166, 0.03577222, 0.0014312152, -0.021619998, 0.009256388, -0.007363333, 0.016267221, -0.032847777, -0.002522986, 0.05196111, 0.0024544443, -0.0021182636, 0.0028363192, -0.0085775, -0.033839997, 0.0010297569, 0.037391108, -0.026333055, -0.027494999, 0.026920553, 0.030967776, -0.009504444, 0.003995, 0.0045041665, 0.012148194, -0.018421387, 0.018656388, 0.004729375, 0.0032916318, 0.008316388, 0.01195236, 0.004693472, 0.00088043394, -0.034936663, -0.0028640623, -0.046660554, -0.007134861, -0.0029146525, -0.0072784717, 0.029766664, -0.0011521527, -0.02026222, 0.0015144444, -0.042926665, -0.0080487495, -0.009504444, -0.025771664, 0.0121025, -0.03861833, -0.018565, 0.024622776, -0.011495416, -0.011958888, 0.044885, 0.003753472, 0.028774442, -0.02390472, 0.0017951388, 0.012037221, -0.007591805, -0.0049480554, 0.003511944, 0.027233887, -0.025575832, -0.005861944, -0.013225277, -0.034910552, -0.026124164, 0.011723888, 0.010920972, 0.013590832, 6.6093744e-05, 0.0035413192, -0.0070761107, 0.01826472, 0.02340861, -0.0007417187, -0.024413887, 0.015470833, 0.03271722, 0.009399999, -0.03762611, 0.015588332, 0.019753054, -0.0058586802, -0.00068378466, 0.0029831943, -0.020523332, -0.009328194, -0.05198722, -0.008570972, 0.025131943, 0.007121805, -0.025223332, 0.03344833, 0.0050492357, 0.011345277, -0.0238525, 0.03793944, 0.02966222, 0.024453053, 0.009171527, 0.0074351383, -0.023630554, 0.036607776, -0.006540833, -0.0074286107, -0.039897773, -0.026515832, -0.04574666, -0.029949442, 0.019922776, 0.05974222, -0.006331944, -0.028800553, -0.034205552, -0.016397776, 0.0049741664, 0.010000555, -0.008433889, 0.01447861, 0.0110645825, 0.021489443, -0.017807776, 0.0068149995, -0.014191388, 0.009197638, 0.010705555, -0.002289618, -0.037417218, 0.01192625, 0.03856611, 0.0068541663, -0.01036611, -0.015209721, -0.0029848262, 0.006250347, -0.020888887, 0.013982499, 0.019700833, 0.020484164, 0.012970693, -0.019687776, -0.03039333, -0.0071805553, -0.011639027, -0.046921663, 0.014165277, -0.031646665, -0.0091780545, -0.022037776, -0.009419583, -0.0050557638, 0.033343885, 0.008975694, 0.007010833, 0.01248111, 0.0005948437, -0.027808331, 0.0032753123, -0.027259998, -0.008042222, 0.009334722, 0.0034466665, 0.033892218, 0.015705831, -0.015914721, 0.018434443, -0.014818055, -0.00816625, 0.025001388, -0.017820831, -0.014896388, 0.01990972, 0.013969444, -0.016972221, 0.0013659374, 0.0044943746, 0.009256388, 0.03647722, 0.0059109023, -0.0036163887, -0.0031431247, 0.038879443, -0.007683194, -0.011847916, -0.0004753038, -0.038043886, -0.0039721527, 0.004252847, -0.008499166, -0.025680276, -0.006958611, 0.02061472, 0.031437777, -0.015875554, -0.009027916, 0.0074938885, -0.008329444, 0.025706386, 0.0053168745, -0.03227333, 0.00428875, -0.025810832, 0.012859722, -0.0112408325, 0.021828888, -0.012468055, 0.01201111, -0.020954166, -0.008995277, 0.014178332, -0.013695277, -0.01823861, 0.0019860764, -0.0103595825, -0.014569999, 0.009040971, -0.008584027, -0.018956665, -0.017546665, 0.0068280553, -0.007676666, 0.030001665, 0.020183887, -0.014844165, -0.027103331, -0.03624222, -0.046686664, -0.0011007464, -0.044336665, -0.0043246523, -0.010470555, 0.033108886, -0.040106665, 0.00063809025, -0.026189443, -0.021019444, 0.0019681249, -0.010091944, -2.8584525e-05, -0.008394722, 0.00438993, 0.023160554, 0.022194443, -0.008362083, 0.035850555, -0.0075199995, 0.0189175, 0.03203833, -0.0014499825, 0.00010194552, 0.01177611, 0.0052646524, -0.0023304166, 0.02987111, -0.02599361, -0.029818887, 0.019948887, -0.0016776387, -0.027964998, 0.028617775, -0.0217375, -0.0019289582, -0.007833333, 0.010816527, -0.019779166, 0.015039999, 0.03692111, 0.003019097, 0.0025180902, 0.008871249, 0.03504111, 0.0088777775, 0.0040276386, 0.02498833, 0.0003779991, 0.015248888, 0.00059851556, -0.012983749, 0.05363222, -0.0065832636, 0.015144443, 0.045328885, -0.008819027, -0.016724166, -0.017128889, 0.022912499, 0.0132513875, -0.04305722, 0.027860554, -0.014844165, -0.0025001387, 0.03365722, -0.016449999, -0.008264166, 0.020144721, -0.03911444, 0.0065734717, 0.0068737497, -0.03621611, 0.010862221, -0.04329222, 0.0029130206, 0.0008237239, 0.015836388, -0.04117722, -0.0053201383, 0.020510277, -0.0010501562, 0.0051243054, -0.008871249, -0.0020464582, 0.00073233503, -0.0030011456, -0.025523609]\n",
      "---\n"
     ]
    }
   ],
   "source": [
    "points = vector_store.client.scroll(\n",
    "    collection_name=vector_store.collection_name,\n",
    "    limit=1,  # adjust this number as needed\n",
    "    with_vectors=True,  # Make sure to include this!\n",
    "    with_payload=True\n",
    ")[0]\n",
    "\n",
    "# Let's inspect what we actually have in the point object\n",
    "for point in points:\n",
    "    print(f\"ID: {point.id}\")\n",
    "    print(\"Point attributes:\", dir(point))  # This will show us all available attributes\n",
    "    print(\"Point dict:\", point.dict().get('vector').get('text-dense'))  # This will show us the entire structure\n",
    "    print(\"---\")"
   ]
  },
  {
   "cell_type": "code",
   "execution_count": null,
   "metadata": {},
   "outputs": [
    {
     "data": {
      "text/plain": [
       "{}"
      ]
     },
     "execution_count": 53,
     "metadata": {},
     "output_type": "execute_result"
    }
   ],
   "source": [
    "index = VectorStoreIndex.from_vector_store(vector_store=vector_store)\n",
    "index.storage_context.docstore.docs"
   ]
  },
  {
   "cell_type": "code",
   "execution_count": 60,
   "metadata": {},
   "outputs": [
    {
     "data": {
      "text/plain": [
       "[Document(id_='5e06a693-0cf8-439e-858a-7ea84484ddde', embedding=None, metadata={'file_path': 'c:\\\\Users\\\\georg\\\\Documents\\\\kwikly-demo\\\\kwikly_scraper\\\\output\\\\resources\\\\page\\\\4.md', 'file_name': '4.md', 'file_size': 12426, 'creation_date': '2024-11-20', 'last_modified_date': '2024-11-20'}, excluded_embed_metadata_keys=['file_name', 'file_type', 'file_size', 'creation_date', 'last_modified_date', 'last_accessed_date'], excluded_llm_metadata_keys=['file_name', 'file_type', 'file_size', 'creation_date', 'last_modified_date', 'last_accessed_date'], relationships={}, metadata_template='{key}: {value}', metadata_separator='\\n', text=\"\\n\\nFind Temporary Staff Seamlessly With Kwikly\\nIf you’ve ever considered using a temporary dental staffing agency to address staffing shortages, you know how much problem-solving potential they have. But can temp agencies without intuitive temp apps really provide the solutions you need? If you've tried one, you may have used a platform with confusing navigation that didn’t actually save you time.\\r\\nRead More\\r\\n!\\r\\nKwikly Dental Staffing • November 20, 2023\\r\\n![Make the Most of Peak Seasons and the Year-End Rush](https://joinkwikly.com/make-the-most-of-peak-seasons-and-the-year-end/)\\r\\nPractice Management\\r\", mimetype='text/plain', start_char_idx=None, end_char_idx=None, metadata_seperator='\\n', text_template='{metadata_str}\\n\\n{content}')]"
      ]
     },
     "execution_count": 60,
     "metadata": {},
     "output_type": "execute_result"
    }
   ],
   "source": [
    "# documents_list[0].id_\n",
    "[doc for doc in documents_list if doc.id_ == '5e06a693-0cf8-439e-858a-7ea84484ddde']"
   ]
  },
  {
   "cell_type": "markdown",
   "metadata": {},
   "source": [
    "# Simple setup to check"
   ]
  },
  {
   "cell_type": "code",
   "execution_count": 64,
   "metadata": {},
   "outputs": [
    {
     "name": "stderr",
     "output_type": "stream",
     "text": [
      "WARNING:root:Batch upload failed 1 times. Retrying...\n",
      "WARNING:root:Batch upload failed 2 times. Retrying...\n",
      "WARNING:root:Batch upload failed 3 times. Retrying...\n"
     ]
    },
    {
     "name": "stdout",
     "output_type": "stream",
     "text": [
      "Error during upload: Unexpected Response: 400 (Bad Request)\n",
      "Raw response content:\n",
      "b'{\"status\":{\"error\":\"Format error in JSON body: value test-id1 is not a valid point ID, valid values are either an unsigned integer or a UUID\"},\"time\":0.0}'\n"
     ]
    }
   ],
   "source": [
    "from qdrant_client import QdrantClient, models\n",
    "\n",
    "# Initialize the Qdrant client\n",
    "client = QdrantClient(host=\"localhost\", port=6333)\n",
    "\n",
    "# Define the embedding dimension\n",
    "embedding_dimension = 4  # Adjust according to your actual embedding size\n",
    "\n",
    "# Check if the collection exists; create if it doesn't\n",
    "collection_name = \"kwikly_support_agent\"\n",
    "if not client.collection_exists(collection_name):\n",
    "    client.create_collection(\n",
    "        collection_name=collection_name,\n",
    "        vectors_config=models.VectorParams(\n",
    "            size=embedding_dimension,\n",
    "            distance=models.Distance.COSINE\n",
    "        )\n",
    "    )\n",
    "\n",
    "# Prepare the points correctly\n",
    "points = [\n",
    "    models.PointStruct(id=\"test-id1\", vector=[0.1, 0.2, 0.3, 0.4])  # Ensure vector dimension matches\n",
    "]\n",
    "\n",
    "# Attempt to upload\n",
    "try:\n",
    "    client.upload_points(\n",
    "        collection_name=collection_name,\n",
    "        points=points\n",
    "    )\n",
    "    print(\"Upload success\")\n",
    "except Exception as e:\n",
    "    print(\"Error during upload:\", e)"
   ]
  },
  {
   "cell_type": "markdown",
   "metadata": {},
   "source": [
    "Trying PineCone instead"
   ]
  },
  {
   "cell_type": "code",
   "execution_count": 66,
   "metadata": {},
   "outputs": [
    {
     "data": {
      "text/plain": [
       "True"
      ]
     },
     "execution_count": 66,
     "metadata": {},
     "output_type": "execute_result"
    }
   ],
   "source": [
    "from pinecone import Pinecone, ServerlessSpec\n",
    "from dotenv import load_dotenv\n",
    "load_dotenv()"
   ]
  },
  {
   "cell_type": "code",
   "execution_count": null,
   "metadata": {},
   "outputs": [],
   "source": [
    "pc = Pinecone()\n",
    "pc.create_index(\n",
    "    name=\"quickstart\",\n",
    "    dimension=1536,\n",
    "    metric=\"euclidean\",\n",
    "    spec=ServerlessSpec(cloud=\"aws\", region=\"us-east-1\"),\n",
    ")\n",
    "pinecone_index = pc.Index(\"quickstart\")"
   ]
  },
  {
   "cell_type": "code",
   "execution_count": 72,
   "metadata": {},
   "outputs": [],
   "source": [
    "from llama_index.core import VectorStoreIndex, SimpleDirectoryReader, StorageContext\n",
    "from llama_index.vector_stores.pinecone import PineconeVectorStore\n",
    "from IPython.display import Markdown, display"
   ]
  },
  {
   "cell_type": "code",
   "execution_count": 73,
   "metadata": {},
   "outputs": [
    {
     "name": "stderr",
     "output_type": "stream",
     "text": [
      "Parsing nodes: 100%|██████████| 10/10 [00:00<00:00, 1999.00it/s]\n",
      "Generating embeddings: 100%|██████████| 10/10 [00:15<00:00,  1.56s/it]\n",
      "Upserted vectors:   0%|          | 0/10 [00:00<?, ?it/s]"
     ]
    },
    {
     "ename": "PineconeApiException",
     "evalue": "(400)\nReason: Bad Request\nHTTP response headers: HTTPHeaderDict({'Date': 'Thu, 21 Nov 2024 04:39:11 GMT', 'Content-Type': 'text/plain', 'Content-Length': '80', 'Connection': 'keep-alive', 'server': 'envoy'})\nHTTP response body: Unexpected token.\n16c669\", \"values\": [NaN, NaN, NaN, NaN, \n                    ^\n",
     "output_type": "error",
     "traceback": [
      "\u001b[1;31m---------------------------------------------------------------------------\u001b[0m",
      "\u001b[1;31mPineconeApiException\u001b[0m                      Traceback (most recent call last)",
      "Cell \u001b[1;32mIn[73], line 3\u001b[0m\n\u001b[0;32m      1\u001b[0m vector_store \u001b[38;5;241m=\u001b[39m PineconeVectorStore(pinecone_index\u001b[38;5;241m=\u001b[39mpinecone_index)\n\u001b[0;32m      2\u001b[0m storage_context \u001b[38;5;241m=\u001b[39m StorageContext\u001b[38;5;241m.\u001b[39mfrom_defaults(vector_store\u001b[38;5;241m=\u001b[39mvector_store)\n\u001b[1;32m----> 3\u001b[0m index \u001b[38;5;241m=\u001b[39m \u001b[43mVectorStoreIndex\u001b[49m\u001b[38;5;241;43m.\u001b[39;49m\u001b[43mfrom_documents\u001b[49m\u001b[43m(\u001b[49m\u001b[43mdocuments\u001b[49m\u001b[38;5;241;43m=\u001b[39;49m\u001b[43mdocs\u001b[49m\u001b[43m[\u001b[49m\u001b[38;5;241;43m0\u001b[39;49m\u001b[43m:\u001b[49m\u001b[38;5;241;43m10\u001b[39;49m\u001b[43m]\u001b[49m\u001b[43m,\u001b[49m\n\u001b[0;32m      4\u001b[0m \u001b[43m                                        \u001b[49m\u001b[43mstorage_context\u001b[49m\u001b[38;5;241;43m=\u001b[39;49m\u001b[43mstorage_context\u001b[49m\u001b[43m,\u001b[49m\n\u001b[0;32m      5\u001b[0m \u001b[43m                                        \u001b[49m\u001b[43mshow_progress\u001b[49m\u001b[38;5;241;43m=\u001b[39;49m\u001b[38;5;28;43;01mTrue\u001b[39;49;00m\u001b[43m)\u001b[49m\n",
      "File \u001b[1;32mc:\\Users\\georg\\virtual-environments\\conversifai-demos-venv\\lib\\site-packages\\llama_index\\core\\indices\\base.py:119\u001b[0m, in \u001b[0;36mBaseIndex.from_documents\u001b[1;34m(cls, documents, storage_context, show_progress, callback_manager, transformations, **kwargs)\u001b[0m\n\u001b[0;32m    110\u001b[0m     docstore\u001b[38;5;241m.\u001b[39mset_document_hash(doc\u001b[38;5;241m.\u001b[39mget_doc_id(), doc\u001b[38;5;241m.\u001b[39mhash)\n\u001b[0;32m    112\u001b[0m nodes \u001b[38;5;241m=\u001b[39m run_transformations(\n\u001b[0;32m    113\u001b[0m     documents,  \u001b[38;5;66;03m# type: ignore\u001b[39;00m\n\u001b[0;32m    114\u001b[0m     transformations,\n\u001b[0;32m    115\u001b[0m     show_progress\u001b[38;5;241m=\u001b[39mshow_progress,\n\u001b[0;32m    116\u001b[0m     \u001b[38;5;241m*\u001b[39m\u001b[38;5;241m*\u001b[39mkwargs,\n\u001b[0;32m    117\u001b[0m )\n\u001b[1;32m--> 119\u001b[0m \u001b[38;5;28;01mreturn\u001b[39;00m \u001b[38;5;28mcls\u001b[39m(\n\u001b[0;32m    120\u001b[0m     nodes\u001b[38;5;241m=\u001b[39mnodes,\n\u001b[0;32m    121\u001b[0m     storage_context\u001b[38;5;241m=\u001b[39mstorage_context,\n\u001b[0;32m    122\u001b[0m     callback_manager\u001b[38;5;241m=\u001b[39mcallback_manager,\n\u001b[0;32m    123\u001b[0m     show_progress\u001b[38;5;241m=\u001b[39mshow_progress,\n\u001b[0;32m    124\u001b[0m     transformations\u001b[38;5;241m=\u001b[39mtransformations,\n\u001b[0;32m    125\u001b[0m     \u001b[38;5;241m*\u001b[39m\u001b[38;5;241m*\u001b[39mkwargs,\n\u001b[0;32m    126\u001b[0m )\n",
      "File \u001b[1;32mc:\\Users\\georg\\virtual-environments\\conversifai-demos-venv\\lib\\site-packages\\llama_index\\core\\indices\\vector_store\\base.py:76\u001b[0m, in \u001b[0;36mVectorStoreIndex.__init__\u001b[1;34m(self, nodes, use_async, store_nodes_override, embed_model, insert_batch_size, objects, index_struct, storage_context, callback_manager, transformations, show_progress, **kwargs)\u001b[0m\n\u001b[0;32m     69\u001b[0m \u001b[38;5;28mself\u001b[39m\u001b[38;5;241m.\u001b[39m_embed_model \u001b[38;5;241m=\u001b[39m (\n\u001b[0;32m     70\u001b[0m     resolve_embed_model(embed_model, callback_manager\u001b[38;5;241m=\u001b[39mcallback_manager)\n\u001b[0;32m     71\u001b[0m     \u001b[38;5;28;01mif\u001b[39;00m embed_model\n\u001b[0;32m     72\u001b[0m     \u001b[38;5;28;01melse\u001b[39;00m Settings\u001b[38;5;241m.\u001b[39membed_model\n\u001b[0;32m     73\u001b[0m )\n\u001b[0;32m     75\u001b[0m \u001b[38;5;28mself\u001b[39m\u001b[38;5;241m.\u001b[39m_insert_batch_size \u001b[38;5;241m=\u001b[39m insert_batch_size\n\u001b[1;32m---> 76\u001b[0m \u001b[38;5;28msuper\u001b[39m()\u001b[38;5;241m.\u001b[39m\u001b[38;5;21m__init__\u001b[39m(\n\u001b[0;32m     77\u001b[0m     nodes\u001b[38;5;241m=\u001b[39mnodes,\n\u001b[0;32m     78\u001b[0m     index_struct\u001b[38;5;241m=\u001b[39mindex_struct,\n\u001b[0;32m     79\u001b[0m     storage_context\u001b[38;5;241m=\u001b[39mstorage_context,\n\u001b[0;32m     80\u001b[0m     show_progress\u001b[38;5;241m=\u001b[39mshow_progress,\n\u001b[0;32m     81\u001b[0m     objects\u001b[38;5;241m=\u001b[39mobjects,\n\u001b[0;32m     82\u001b[0m     callback_manager\u001b[38;5;241m=\u001b[39mcallback_manager,\n\u001b[0;32m     83\u001b[0m     transformations\u001b[38;5;241m=\u001b[39mtransformations,\n\u001b[0;32m     84\u001b[0m     \u001b[38;5;241m*\u001b[39m\u001b[38;5;241m*\u001b[39mkwargs,\n\u001b[0;32m     85\u001b[0m )\n",
      "File \u001b[1;32mc:\\Users\\georg\\virtual-environments\\conversifai-demos-venv\\lib\\site-packages\\llama_index\\core\\indices\\base.py:77\u001b[0m, in \u001b[0;36mBaseIndex.__init__\u001b[1;34m(self, nodes, objects, index_struct, storage_context, callback_manager, transformations, show_progress, **kwargs)\u001b[0m\n\u001b[0;32m     75\u001b[0m \u001b[38;5;28;01mif\u001b[39;00m index_struct \u001b[38;5;129;01mis\u001b[39;00m \u001b[38;5;28;01mNone\u001b[39;00m:\n\u001b[0;32m     76\u001b[0m     nodes \u001b[38;5;241m=\u001b[39m nodes \u001b[38;5;129;01mor\u001b[39;00m []\n\u001b[1;32m---> 77\u001b[0m     index_struct \u001b[38;5;241m=\u001b[39m \u001b[38;5;28mself\u001b[39m\u001b[38;5;241m.\u001b[39mbuild_index_from_nodes(\n\u001b[0;32m     78\u001b[0m         nodes \u001b[38;5;241m+\u001b[39m objects,  \u001b[38;5;66;03m# type: ignore\u001b[39;00m\n\u001b[0;32m     79\u001b[0m         \u001b[38;5;241m*\u001b[39m\u001b[38;5;241m*\u001b[39mkwargs,  \u001b[38;5;66;03m# type: ignore\u001b[39;00m\n\u001b[0;32m     80\u001b[0m     )\n\u001b[0;32m     81\u001b[0m \u001b[38;5;28mself\u001b[39m\u001b[38;5;241m.\u001b[39m_index_struct \u001b[38;5;241m=\u001b[39m index_struct\n\u001b[0;32m     82\u001b[0m \u001b[38;5;28mself\u001b[39m\u001b[38;5;241m.\u001b[39m_storage_context\u001b[38;5;241m.\u001b[39mindex_store\u001b[38;5;241m.\u001b[39madd_index_struct(\u001b[38;5;28mself\u001b[39m\u001b[38;5;241m.\u001b[39m_index_struct)\n",
      "File \u001b[1;32mc:\\Users\\georg\\virtual-environments\\conversifai-demos-venv\\lib\\site-packages\\llama_index\\core\\indices\\vector_store\\base.py:310\u001b[0m, in \u001b[0;36mVectorStoreIndex.build_index_from_nodes\u001b[1;34m(self, nodes, **insert_kwargs)\u001b[0m\n\u001b[0;32m    307\u001b[0m \u001b[38;5;28;01mif\u001b[39;00m \u001b[38;5;28mlen\u001b[39m(content_nodes) \u001b[38;5;241m!=\u001b[39m \u001b[38;5;28mlen\u001b[39m(nodes):\n\u001b[0;32m    308\u001b[0m     \u001b[38;5;28mprint\u001b[39m(\u001b[38;5;124m\"\u001b[39m\u001b[38;5;124mSome nodes are missing content, skipping them...\u001b[39m\u001b[38;5;124m\"\u001b[39m)\n\u001b[1;32m--> 310\u001b[0m \u001b[38;5;28;01mreturn\u001b[39;00m \u001b[38;5;28mself\u001b[39m\u001b[38;5;241m.\u001b[39m_build_index_from_nodes(content_nodes, \u001b[38;5;241m*\u001b[39m\u001b[38;5;241m*\u001b[39minsert_kwargs)\n",
      "File \u001b[1;32mc:\\Users\\georg\\virtual-environments\\conversifai-demos-venv\\lib\\site-packages\\llama_index\\core\\indices\\vector_store\\base.py:279\u001b[0m, in \u001b[0;36mVectorStoreIndex._build_index_from_nodes\u001b[1;34m(self, nodes, **insert_kwargs)\u001b[0m\n\u001b[0;32m    277\u001b[0m     run_async_tasks(tasks)\n\u001b[0;32m    278\u001b[0m \u001b[38;5;28;01melse\u001b[39;00m:\n\u001b[1;32m--> 279\u001b[0m     \u001b[38;5;28mself\u001b[39m\u001b[38;5;241m.\u001b[39m_add_nodes_to_index(\n\u001b[0;32m    280\u001b[0m         index_struct,\n\u001b[0;32m    281\u001b[0m         nodes,\n\u001b[0;32m    282\u001b[0m         show_progress\u001b[38;5;241m=\u001b[39m\u001b[38;5;28mself\u001b[39m\u001b[38;5;241m.\u001b[39m_show_progress,\n\u001b[0;32m    283\u001b[0m         \u001b[38;5;241m*\u001b[39m\u001b[38;5;241m*\u001b[39minsert_kwargs,\n\u001b[0;32m    284\u001b[0m     )\n\u001b[0;32m    285\u001b[0m \u001b[38;5;28;01mreturn\u001b[39;00m index_struct\n",
      "File \u001b[1;32mc:\\Users\\georg\\virtual-environments\\conversifai-demos-venv\\lib\\site-packages\\llama_index\\core\\indices\\vector_store\\base.py:233\u001b[0m, in \u001b[0;36mVectorStoreIndex._add_nodes_to_index\u001b[1;34m(self, index_struct, nodes, show_progress, **insert_kwargs)\u001b[0m\n\u001b[0;32m    231\u001b[0m \u001b[38;5;28;01mfor\u001b[39;00m nodes_batch \u001b[38;5;129;01min\u001b[39;00m iter_batch(nodes, \u001b[38;5;28mself\u001b[39m\u001b[38;5;241m.\u001b[39m_insert_batch_size):\n\u001b[0;32m    232\u001b[0m     nodes_batch \u001b[38;5;241m=\u001b[39m \u001b[38;5;28mself\u001b[39m\u001b[38;5;241m.\u001b[39m_get_node_with_embedding(nodes_batch, show_progress)\n\u001b[1;32m--> 233\u001b[0m     new_ids \u001b[38;5;241m=\u001b[39m \u001b[38;5;28mself\u001b[39m\u001b[38;5;241m.\u001b[39m_vector_store\u001b[38;5;241m.\u001b[39madd(nodes_batch, \u001b[38;5;241m*\u001b[39m\u001b[38;5;241m*\u001b[39minsert_kwargs)\n\u001b[0;32m    235\u001b[0m     \u001b[38;5;28;01mif\u001b[39;00m \u001b[38;5;129;01mnot\u001b[39;00m \u001b[38;5;28mself\u001b[39m\u001b[38;5;241m.\u001b[39m_vector_store\u001b[38;5;241m.\u001b[39mstores_text \u001b[38;5;129;01mor\u001b[39;00m \u001b[38;5;28mself\u001b[39m\u001b[38;5;241m.\u001b[39m_store_nodes_override:\n\u001b[0;32m    236\u001b[0m         \u001b[38;5;66;03m# NOTE: if the vector store doesn't store text,\u001b[39;00m\n\u001b[0;32m    237\u001b[0m         \u001b[38;5;66;03m# we need to add the nodes to the index struct and document store\u001b[39;00m\n\u001b[0;32m    238\u001b[0m         \u001b[38;5;28;01mfor\u001b[39;00m node, new_id \u001b[38;5;129;01min\u001b[39;00m \u001b[38;5;28mzip\u001b[39m(nodes_batch, new_ids):\n\u001b[0;32m    239\u001b[0m             \u001b[38;5;66;03m# NOTE: remove embedding from node to avoid duplication\u001b[39;00m\n",
      "File \u001b[1;32mc:\\Users\\georg\\virtual-environments\\conversifai-demos-venv\\lib\\site-packages\\llama_index\\vector_stores\\pinecone\\base.py:361\u001b[0m, in \u001b[0;36mPineconeVectorStore.add\u001b[1;34m(self, nodes, **add_kwargs)\u001b[0m\n\u001b[0;32m    355\u001b[0m     \u001b[38;5;28;01mfor\u001b[39;00m i, sparse_vector \u001b[38;5;129;01min\u001b[39;00m \u001b[38;5;28menumerate\u001b[39m(sparse_vectors):\n\u001b[0;32m    356\u001b[0m         entries[i][SPARSE_VECTOR_KEY] \u001b[38;5;241m=\u001b[39m {\n\u001b[0;32m    357\u001b[0m             \u001b[38;5;124m\"\u001b[39m\u001b[38;5;124mindices\u001b[39m\u001b[38;5;124m\"\u001b[39m: \u001b[38;5;28mlist\u001b[39m(sparse_vector\u001b[38;5;241m.\u001b[39mkeys()),\n\u001b[0;32m    358\u001b[0m             \u001b[38;5;124m\"\u001b[39m\u001b[38;5;124mvalues\u001b[39m\u001b[38;5;124m\"\u001b[39m: \u001b[38;5;28mlist\u001b[39m(sparse_vector\u001b[38;5;241m.\u001b[39mvalues()),\n\u001b[0;32m    359\u001b[0m         }\n\u001b[1;32m--> 361\u001b[0m \u001b[38;5;28mself\u001b[39m\u001b[38;5;241m.\u001b[39m_pinecone_index\u001b[38;5;241m.\u001b[39mupsert(\n\u001b[0;32m    362\u001b[0m     entries,\n\u001b[0;32m    363\u001b[0m     namespace\u001b[38;5;241m=\u001b[39m\u001b[38;5;28mself\u001b[39m\u001b[38;5;241m.\u001b[39mnamespace,\n\u001b[0;32m    364\u001b[0m     batch_size\u001b[38;5;241m=\u001b[39m\u001b[38;5;28mself\u001b[39m\u001b[38;5;241m.\u001b[39mbatch_size,\n\u001b[0;32m    365\u001b[0m     \u001b[38;5;241m*\u001b[39m\u001b[38;5;241m*\u001b[39m\u001b[38;5;28mself\u001b[39m\u001b[38;5;241m.\u001b[39minsert_kwargs,\n\u001b[0;32m    366\u001b[0m )\n\u001b[0;32m    367\u001b[0m \u001b[38;5;28;01mreturn\u001b[39;00m ids\n",
      "File \u001b[1;32mc:\\Users\\georg\\virtual-environments\\conversifai-demos-venv\\lib\\site-packages\\pinecone\\utils\\error_handling.py:11\u001b[0m, in \u001b[0;36mvalidate_and_convert_errors.<locals>.inner_func\u001b[1;34m(*args, **kwargs)\u001b[0m\n\u001b[0;32m      8\u001b[0m \u001b[38;5;129m@wraps\u001b[39m(func)\n\u001b[0;32m      9\u001b[0m \u001b[38;5;28;01mdef\u001b[39;00m \u001b[38;5;21minner_func\u001b[39m(\u001b[38;5;241m*\u001b[39margs, \u001b[38;5;241m*\u001b[39m\u001b[38;5;241m*\u001b[39mkwargs):\n\u001b[0;32m     10\u001b[0m     \u001b[38;5;28;01mtry\u001b[39;00m:\n\u001b[1;32m---> 11\u001b[0m         \u001b[38;5;28;01mreturn\u001b[39;00m func(\u001b[38;5;241m*\u001b[39margs, \u001b[38;5;241m*\u001b[39m\u001b[38;5;241m*\u001b[39mkwargs)\n\u001b[0;32m     12\u001b[0m     \u001b[38;5;28;01mexcept\u001b[39;00m MaxRetryError \u001b[38;5;28;01mas\u001b[39;00m e:\n\u001b[0;32m     13\u001b[0m         \u001b[38;5;28;01mif\u001b[39;00m \u001b[38;5;28misinstance\u001b[39m(e\u001b[38;5;241m.\u001b[39mreason, ProtocolError):\n",
      "File \u001b[1;32mc:\\Users\\georg\\virtual-environments\\conversifai-demos-venv\\lib\\site-packages\\pinecone\\data\\index.py:187\u001b[0m, in \u001b[0;36mIndex.upsert\u001b[1;34m(self, vectors, namespace, batch_size, show_progress, **kwargs)\u001b[0m\n\u001b[0;32m    185\u001b[0m total_upserted \u001b[38;5;241m=\u001b[39m \u001b[38;5;241m0\u001b[39m\n\u001b[0;32m    186\u001b[0m \u001b[38;5;28;01mfor\u001b[39;00m i \u001b[38;5;129;01min\u001b[39;00m \u001b[38;5;28mrange\u001b[39m(\u001b[38;5;241m0\u001b[39m, \u001b[38;5;28mlen\u001b[39m(vectors), batch_size):\n\u001b[1;32m--> 187\u001b[0m     batch_result \u001b[38;5;241m=\u001b[39m \u001b[38;5;28mself\u001b[39m\u001b[38;5;241m.\u001b[39m_upsert_batch(vectors[i : i \u001b[38;5;241m+\u001b[39m batch_size], namespace, _check_type, \u001b[38;5;241m*\u001b[39m\u001b[38;5;241m*\u001b[39mkwargs)\n\u001b[0;32m    188\u001b[0m     pbar\u001b[38;5;241m.\u001b[39mupdate(batch_result\u001b[38;5;241m.\u001b[39mupserted_count)\n\u001b[0;32m    189\u001b[0m     \u001b[38;5;66;03m# we can't use here pbar.n for the case show_progress=False\u001b[39;00m\n",
      "File \u001b[1;32mc:\\Users\\georg\\virtual-environments\\conversifai-demos-venv\\lib\\site-packages\\pinecone\\data\\index.py:204\u001b[0m, in \u001b[0;36mIndex._upsert_batch\u001b[1;34m(self, vectors, namespace, _check_type, **kwargs)\u001b[0m\n\u001b[0;32m    201\u001b[0m args_dict \u001b[38;5;241m=\u001b[39m \u001b[38;5;28mself\u001b[39m\u001b[38;5;241m.\u001b[39m_parse_non_empty_args([(\u001b[38;5;124m\"\u001b[39m\u001b[38;5;124mnamespace\u001b[39m\u001b[38;5;124m\"\u001b[39m, namespace)])\n\u001b[0;32m    202\u001b[0m vec_builder \u001b[38;5;241m=\u001b[39m \u001b[38;5;28;01mlambda\u001b[39;00m v: VectorFactory\u001b[38;5;241m.\u001b[39mbuild(v, check_type\u001b[38;5;241m=\u001b[39m_check_type)\n\u001b[1;32m--> 204\u001b[0m \u001b[38;5;28;01mreturn\u001b[39;00m \u001b[38;5;28mself\u001b[39m\u001b[38;5;241m.\u001b[39m_vector_api\u001b[38;5;241m.\u001b[39mupsert(\n\u001b[0;32m    205\u001b[0m     UpsertRequest(\n\u001b[0;32m    206\u001b[0m         vectors\u001b[38;5;241m=\u001b[39m\u001b[38;5;28mlist\u001b[39m(\u001b[38;5;28mmap\u001b[39m(vec_builder, vectors)),\n\u001b[0;32m    207\u001b[0m         \u001b[38;5;241m*\u001b[39m\u001b[38;5;241m*\u001b[39margs_dict,\n\u001b[0;32m    208\u001b[0m         _check_type\u001b[38;5;241m=\u001b[39m_check_type,\n\u001b[0;32m    209\u001b[0m         \u001b[38;5;241m*\u001b[39m\u001b[38;5;241m*\u001b[39m{k: v \u001b[38;5;28;01mfor\u001b[39;00m k, v \u001b[38;5;129;01min\u001b[39;00m kwargs\u001b[38;5;241m.\u001b[39mitems() \u001b[38;5;28;01mif\u001b[39;00m k \u001b[38;5;129;01mnot\u001b[39;00m \u001b[38;5;129;01min\u001b[39;00m _OPENAPI_ENDPOINT_PARAMS},\n\u001b[0;32m    210\u001b[0m     ),\n\u001b[0;32m    211\u001b[0m     \u001b[38;5;241m*\u001b[39m\u001b[38;5;241m*\u001b[39m{k: v \u001b[38;5;28;01mfor\u001b[39;00m k, v \u001b[38;5;129;01min\u001b[39;00m kwargs\u001b[38;5;241m.\u001b[39mitems() \u001b[38;5;28;01mif\u001b[39;00m k \u001b[38;5;129;01min\u001b[39;00m _OPENAPI_ENDPOINT_PARAMS},\n\u001b[0;32m    212\u001b[0m )\n",
      "File \u001b[1;32mc:\\Users\\georg\\virtual-environments\\conversifai-demos-venv\\lib\\site-packages\\pinecone\\core\\openapi\\shared\\api_client.py:761\u001b[0m, in \u001b[0;36mEndpoint.__call__\u001b[1;34m(self, *args, **kwargs)\u001b[0m\n\u001b[0;32m    750\u001b[0m \u001b[38;5;28;01mdef\u001b[39;00m \u001b[38;5;21m__call__\u001b[39m(\u001b[38;5;28mself\u001b[39m, \u001b[38;5;241m*\u001b[39margs, \u001b[38;5;241m*\u001b[39m\u001b[38;5;241m*\u001b[39mkwargs):\n\u001b[0;32m    751\u001b[0m \u001b[38;5;250m    \u001b[39m\u001b[38;5;124;03m\"\"\"This method is invoked when endpoints are called\u001b[39;00m\n\u001b[0;32m    752\u001b[0m \u001b[38;5;124;03m    Example:\u001b[39;00m\n\u001b[0;32m    753\u001b[0m \n\u001b[1;32m   (...)\u001b[0m\n\u001b[0;32m    759\u001b[0m \n\u001b[0;32m    760\u001b[0m \u001b[38;5;124;03m    \"\"\"\u001b[39;00m\n\u001b[1;32m--> 761\u001b[0m     \u001b[38;5;28;01mreturn\u001b[39;00m \u001b[38;5;28mself\u001b[39m\u001b[38;5;241m.\u001b[39mcallable(\u001b[38;5;28mself\u001b[39m, \u001b[38;5;241m*\u001b[39margs, \u001b[38;5;241m*\u001b[39m\u001b[38;5;241m*\u001b[39mkwargs)\n",
      "File \u001b[1;32mc:\\Users\\georg\\virtual-environments\\conversifai-demos-venv\\lib\\site-packages\\pinecone\\core\\openapi\\data\\api\\data_plane_api.py:811\u001b[0m, in \u001b[0;36mDataPlaneApi.__init__.<locals>.__upsert\u001b[1;34m(self, upsert_request, **kwargs)\u001b[0m\n\u001b[0;32m    809\u001b[0m kwargs[\u001b[38;5;124m\"\u001b[39m\u001b[38;5;124m_host_index\u001b[39m\u001b[38;5;124m\"\u001b[39m] \u001b[38;5;241m=\u001b[39m kwargs\u001b[38;5;241m.\u001b[39mget(\u001b[38;5;124m\"\u001b[39m\u001b[38;5;124m_host_index\u001b[39m\u001b[38;5;124m\"\u001b[39m)\n\u001b[0;32m    810\u001b[0m kwargs[\u001b[38;5;124m\"\u001b[39m\u001b[38;5;124mupsert_request\u001b[39m\u001b[38;5;124m\"\u001b[39m] \u001b[38;5;241m=\u001b[39m upsert_request\n\u001b[1;32m--> 811\u001b[0m \u001b[38;5;28;01mreturn\u001b[39;00m \u001b[38;5;28mself\u001b[39m\u001b[38;5;241m.\u001b[39mcall_with_http_info(\u001b[38;5;241m*\u001b[39m\u001b[38;5;241m*\u001b[39mkwargs)\n",
      "File \u001b[1;32mc:\\Users\\georg\\virtual-environments\\conversifai-demos-venv\\lib\\site-packages\\pinecone\\core\\openapi\\shared\\api_client.py:819\u001b[0m, in \u001b[0;36mEndpoint.call_with_http_info\u001b[1;34m(self, **kwargs)\u001b[0m\n\u001b[0;32m    816\u001b[0m     header_list \u001b[38;5;241m=\u001b[39m \u001b[38;5;28mself\u001b[39m\u001b[38;5;241m.\u001b[39mapi_client\u001b[38;5;241m.\u001b[39mselect_header_content_type(content_type_headers_list)\n\u001b[0;32m    817\u001b[0m     params[\u001b[38;5;124m\"\u001b[39m\u001b[38;5;124mheader\u001b[39m\u001b[38;5;124m\"\u001b[39m][\u001b[38;5;124m\"\u001b[39m\u001b[38;5;124mContent-Type\u001b[39m\u001b[38;5;124m\"\u001b[39m] \u001b[38;5;241m=\u001b[39m header_list\n\u001b[1;32m--> 819\u001b[0m \u001b[38;5;28;01mreturn\u001b[39;00m \u001b[38;5;28;43mself\u001b[39;49m\u001b[38;5;241;43m.\u001b[39;49m\u001b[43mapi_client\u001b[49m\u001b[38;5;241;43m.\u001b[39;49m\u001b[43mcall_api\u001b[49m\u001b[43m(\u001b[49m\n\u001b[0;32m    820\u001b[0m \u001b[43m    \u001b[49m\u001b[38;5;28;43mself\u001b[39;49m\u001b[38;5;241;43m.\u001b[39;49m\u001b[43msettings\u001b[49m\u001b[43m[\u001b[49m\u001b[38;5;124;43m\"\u001b[39;49m\u001b[38;5;124;43mendpoint_path\u001b[39;49m\u001b[38;5;124;43m\"\u001b[39;49m\u001b[43m]\u001b[49m\u001b[43m,\u001b[49m\n\u001b[0;32m    821\u001b[0m \u001b[43m    \u001b[49m\u001b[38;5;28;43mself\u001b[39;49m\u001b[38;5;241;43m.\u001b[39;49m\u001b[43msettings\u001b[49m\u001b[43m[\u001b[49m\u001b[38;5;124;43m\"\u001b[39;49m\u001b[38;5;124;43mhttp_method\u001b[39;49m\u001b[38;5;124;43m\"\u001b[39;49m\u001b[43m]\u001b[49m\u001b[43m,\u001b[49m\n\u001b[0;32m    822\u001b[0m \u001b[43m    \u001b[49m\u001b[43mparams\u001b[49m\u001b[43m[\u001b[49m\u001b[38;5;124;43m\"\u001b[39;49m\u001b[38;5;124;43mpath\u001b[39;49m\u001b[38;5;124;43m\"\u001b[39;49m\u001b[43m]\u001b[49m\u001b[43m,\u001b[49m\n\u001b[0;32m    823\u001b[0m \u001b[43m    \u001b[49m\u001b[43mparams\u001b[49m\u001b[43m[\u001b[49m\u001b[38;5;124;43m\"\u001b[39;49m\u001b[38;5;124;43mquery\u001b[39;49m\u001b[38;5;124;43m\"\u001b[39;49m\u001b[43m]\u001b[49m\u001b[43m,\u001b[49m\n\u001b[0;32m    824\u001b[0m \u001b[43m    \u001b[49m\u001b[43mparams\u001b[49m\u001b[43m[\u001b[49m\u001b[38;5;124;43m\"\u001b[39;49m\u001b[38;5;124;43mheader\u001b[39;49m\u001b[38;5;124;43m\"\u001b[39;49m\u001b[43m]\u001b[49m\u001b[43m,\u001b[49m\n\u001b[0;32m    825\u001b[0m \u001b[43m    \u001b[49m\u001b[43mbody\u001b[49m\u001b[38;5;241;43m=\u001b[39;49m\u001b[43mparams\u001b[49m\u001b[43m[\u001b[49m\u001b[38;5;124;43m\"\u001b[39;49m\u001b[38;5;124;43mbody\u001b[39;49m\u001b[38;5;124;43m\"\u001b[39;49m\u001b[43m]\u001b[49m\u001b[43m,\u001b[49m\n\u001b[0;32m    826\u001b[0m \u001b[43m    \u001b[49m\u001b[43mpost_params\u001b[49m\u001b[38;5;241;43m=\u001b[39;49m\u001b[43mparams\u001b[49m\u001b[43m[\u001b[49m\u001b[38;5;124;43m\"\u001b[39;49m\u001b[38;5;124;43mform\u001b[39;49m\u001b[38;5;124;43m\"\u001b[39;49m\u001b[43m]\u001b[49m\u001b[43m,\u001b[49m\n\u001b[0;32m    827\u001b[0m \u001b[43m    \u001b[49m\u001b[43mfiles\u001b[49m\u001b[38;5;241;43m=\u001b[39;49m\u001b[43mparams\u001b[49m\u001b[43m[\u001b[49m\u001b[38;5;124;43m\"\u001b[39;49m\u001b[38;5;124;43mfile\u001b[39;49m\u001b[38;5;124;43m\"\u001b[39;49m\u001b[43m]\u001b[49m\u001b[43m,\u001b[49m\n\u001b[0;32m    828\u001b[0m \u001b[43m    \u001b[49m\u001b[43mresponse_type\u001b[49m\u001b[38;5;241;43m=\u001b[39;49m\u001b[38;5;28;43mself\u001b[39;49m\u001b[38;5;241;43m.\u001b[39;49m\u001b[43msettings\u001b[49m\u001b[43m[\u001b[49m\u001b[38;5;124;43m\"\u001b[39;49m\u001b[38;5;124;43mresponse_type\u001b[39;49m\u001b[38;5;124;43m\"\u001b[39;49m\u001b[43m]\u001b[49m\u001b[43m,\u001b[49m\n\u001b[0;32m    829\u001b[0m \u001b[43m    \u001b[49m\u001b[43mauth_settings\u001b[49m\u001b[38;5;241;43m=\u001b[39;49m\u001b[38;5;28;43mself\u001b[39;49m\u001b[38;5;241;43m.\u001b[39;49m\u001b[43msettings\u001b[49m\u001b[43m[\u001b[49m\u001b[38;5;124;43m\"\u001b[39;49m\u001b[38;5;124;43mauth\u001b[39;49m\u001b[38;5;124;43m\"\u001b[39;49m\u001b[43m]\u001b[49m\u001b[43m,\u001b[49m\n\u001b[0;32m    830\u001b[0m \u001b[43m    \u001b[49m\u001b[43masync_req\u001b[49m\u001b[38;5;241;43m=\u001b[39;49m\u001b[43mkwargs\u001b[49m\u001b[43m[\u001b[49m\u001b[38;5;124;43m\"\u001b[39;49m\u001b[38;5;124;43masync_req\u001b[39;49m\u001b[38;5;124;43m\"\u001b[39;49m\u001b[43m]\u001b[49m\u001b[43m,\u001b[49m\n\u001b[0;32m    831\u001b[0m \u001b[43m    \u001b[49m\u001b[43m_check_type\u001b[49m\u001b[38;5;241;43m=\u001b[39;49m\u001b[43mkwargs\u001b[49m\u001b[43m[\u001b[49m\u001b[38;5;124;43m\"\u001b[39;49m\u001b[38;5;124;43m_check_return_type\u001b[39;49m\u001b[38;5;124;43m\"\u001b[39;49m\u001b[43m]\u001b[49m\u001b[43m,\u001b[49m\n\u001b[0;32m    832\u001b[0m \u001b[43m    \u001b[49m\u001b[43m_return_http_data_only\u001b[49m\u001b[38;5;241;43m=\u001b[39;49m\u001b[43mkwargs\u001b[49m\u001b[43m[\u001b[49m\u001b[38;5;124;43m\"\u001b[39;49m\u001b[38;5;124;43m_return_http_data_only\u001b[39;49m\u001b[38;5;124;43m\"\u001b[39;49m\u001b[43m]\u001b[49m\u001b[43m,\u001b[49m\n\u001b[0;32m    833\u001b[0m \u001b[43m    \u001b[49m\u001b[43m_preload_content\u001b[49m\u001b[38;5;241;43m=\u001b[39;49m\u001b[43mkwargs\u001b[49m\u001b[43m[\u001b[49m\u001b[38;5;124;43m\"\u001b[39;49m\u001b[38;5;124;43m_preload_content\u001b[39;49m\u001b[38;5;124;43m\"\u001b[39;49m\u001b[43m]\u001b[49m\u001b[43m,\u001b[49m\n\u001b[0;32m    834\u001b[0m \u001b[43m    \u001b[49m\u001b[43m_request_timeout\u001b[49m\u001b[38;5;241;43m=\u001b[39;49m\u001b[43mkwargs\u001b[49m\u001b[43m[\u001b[49m\u001b[38;5;124;43m\"\u001b[39;49m\u001b[38;5;124;43m_request_timeout\u001b[39;49m\u001b[38;5;124;43m\"\u001b[39;49m\u001b[43m]\u001b[49m\u001b[43m,\u001b[49m\n\u001b[0;32m    835\u001b[0m \u001b[43m    \u001b[49m\u001b[43m_host\u001b[49m\u001b[38;5;241;43m=\u001b[39;49m\u001b[43m_host\u001b[49m\u001b[43m,\u001b[49m\n\u001b[0;32m    836\u001b[0m \u001b[43m    \u001b[49m\u001b[43mcollection_formats\u001b[49m\u001b[38;5;241;43m=\u001b[39;49m\u001b[43mparams\u001b[49m\u001b[43m[\u001b[49m\u001b[38;5;124;43m\"\u001b[39;49m\u001b[38;5;124;43mcollection_format\u001b[39;49m\u001b[38;5;124;43m\"\u001b[39;49m\u001b[43m]\u001b[49m\u001b[43m,\u001b[49m\n\u001b[0;32m    837\u001b[0m \u001b[43m\u001b[49m\u001b[43m)\u001b[49m\n",
      "File \u001b[1;32mc:\\Users\\georg\\virtual-environments\\conversifai-demos-venv\\lib\\site-packages\\pinecone\\core\\openapi\\shared\\api_client.py:380\u001b[0m, in \u001b[0;36mApiClient.call_api\u001b[1;34m(self, resource_path, method, path_params, query_params, header_params, body, post_params, files, response_type, auth_settings, async_req, _return_http_data_only, collection_formats, _preload_content, _request_timeout, _host, _check_type)\u001b[0m\n\u001b[0;32m    326\u001b[0m \u001b[38;5;250m\u001b[39m\u001b[38;5;124;03m\"\"\"Makes the HTTP request (synchronous) and returns deserialized data.\u001b[39;00m\n\u001b[0;32m    327\u001b[0m \n\u001b[0;32m    328\u001b[0m \u001b[38;5;124;03mTo make an async_req request, set the async_req parameter.\u001b[39;00m\n\u001b[1;32m   (...)\u001b[0m\n\u001b[0;32m    377\u001b[0m \u001b[38;5;124;03m    then the method will return the response directly.\u001b[39;00m\n\u001b[0;32m    378\u001b[0m \u001b[38;5;124;03m\"\"\"\u001b[39;00m\n\u001b[0;32m    379\u001b[0m \u001b[38;5;28;01mif\u001b[39;00m \u001b[38;5;129;01mnot\u001b[39;00m async_req:\n\u001b[1;32m--> 380\u001b[0m     \u001b[38;5;28;01mreturn\u001b[39;00m \u001b[38;5;28;43mself\u001b[39;49m\u001b[38;5;241;43m.\u001b[39;49m\u001b[43m__call_api\u001b[49m\u001b[43m(\u001b[49m\n\u001b[0;32m    381\u001b[0m \u001b[43m        \u001b[49m\u001b[43mresource_path\u001b[49m\u001b[43m,\u001b[49m\n\u001b[0;32m    382\u001b[0m \u001b[43m        \u001b[49m\u001b[43mmethod\u001b[49m\u001b[43m,\u001b[49m\n\u001b[0;32m    383\u001b[0m \u001b[43m        \u001b[49m\u001b[43mpath_params\u001b[49m\u001b[43m,\u001b[49m\n\u001b[0;32m    384\u001b[0m \u001b[43m        \u001b[49m\u001b[43mquery_params\u001b[49m\u001b[43m,\u001b[49m\n\u001b[0;32m    385\u001b[0m \u001b[43m        \u001b[49m\u001b[43mheader_params\u001b[49m\u001b[43m,\u001b[49m\n\u001b[0;32m    386\u001b[0m \u001b[43m        \u001b[49m\u001b[43mbody\u001b[49m\u001b[43m,\u001b[49m\n\u001b[0;32m    387\u001b[0m \u001b[43m        \u001b[49m\u001b[43mpost_params\u001b[49m\u001b[43m,\u001b[49m\n\u001b[0;32m    388\u001b[0m \u001b[43m        \u001b[49m\u001b[43mfiles\u001b[49m\u001b[43m,\u001b[49m\n\u001b[0;32m    389\u001b[0m \u001b[43m        \u001b[49m\u001b[43mresponse_type\u001b[49m\u001b[43m,\u001b[49m\n\u001b[0;32m    390\u001b[0m \u001b[43m        \u001b[49m\u001b[43mauth_settings\u001b[49m\u001b[43m,\u001b[49m\n\u001b[0;32m    391\u001b[0m \u001b[43m        \u001b[49m\u001b[43m_return_http_data_only\u001b[49m\u001b[43m,\u001b[49m\n\u001b[0;32m    392\u001b[0m \u001b[43m        \u001b[49m\u001b[43mcollection_formats\u001b[49m\u001b[43m,\u001b[49m\n\u001b[0;32m    393\u001b[0m \u001b[43m        \u001b[49m\u001b[43m_preload_content\u001b[49m\u001b[43m,\u001b[49m\n\u001b[0;32m    394\u001b[0m \u001b[43m        \u001b[49m\u001b[43m_request_timeout\u001b[49m\u001b[43m,\u001b[49m\n\u001b[0;32m    395\u001b[0m \u001b[43m        \u001b[49m\u001b[43m_host\u001b[49m\u001b[43m,\u001b[49m\n\u001b[0;32m    396\u001b[0m \u001b[43m        \u001b[49m\u001b[43m_check_type\u001b[49m\u001b[43m,\u001b[49m\n\u001b[0;32m    397\u001b[0m \u001b[43m    \u001b[49m\u001b[43m)\u001b[49m\n\u001b[0;32m    399\u001b[0m \u001b[38;5;28;01mreturn\u001b[39;00m \u001b[38;5;28mself\u001b[39m\u001b[38;5;241m.\u001b[39mpool\u001b[38;5;241m.\u001b[39mapply_async(\n\u001b[0;32m    400\u001b[0m     \u001b[38;5;28mself\u001b[39m\u001b[38;5;241m.\u001b[39m__call_api,\n\u001b[0;32m    401\u001b[0m     (\n\u001b[1;32m   (...)\u001b[0m\n\u001b[0;32m    418\u001b[0m     ),\n\u001b[0;32m    419\u001b[0m )\n",
      "File \u001b[1;32mc:\\Users\\georg\\virtual-environments\\conversifai-demos-venv\\lib\\site-packages\\pinecone\\core\\openapi\\shared\\api_client.py:187\u001b[0m, in \u001b[0;36mApiClient.__call_api\u001b[1;34m(self, resource_path, method, path_params, query_params, header_params, body, post_params, files, response_type, auth_settings, _return_http_data_only, collection_formats, _preload_content, _request_timeout, _host, _check_type)\u001b[0m\n\u001b[0;32m    185\u001b[0m \u001b[38;5;28;01mexcept\u001b[39;00m PineconeApiException \u001b[38;5;28;01mas\u001b[39;00m e:\n\u001b[0;32m    186\u001b[0m     e\u001b[38;5;241m.\u001b[39mbody \u001b[38;5;241m=\u001b[39m e\u001b[38;5;241m.\u001b[39mbody\u001b[38;5;241m.\u001b[39mdecode(\u001b[38;5;124m\"\u001b[39m\u001b[38;5;124mutf-8\u001b[39m\u001b[38;5;124m\"\u001b[39m)\n\u001b[1;32m--> 187\u001b[0m     \u001b[38;5;28;01mraise\u001b[39;00m e\n\u001b[0;32m    189\u001b[0m \u001b[38;5;28mself\u001b[39m\u001b[38;5;241m.\u001b[39mlast_response \u001b[38;5;241m=\u001b[39m response_data\n\u001b[0;32m    191\u001b[0m return_data \u001b[38;5;241m=\u001b[39m response_data\n",
      "File \u001b[1;32mc:\\Users\\georg\\virtual-environments\\conversifai-demos-venv\\lib\\site-packages\\pinecone\\core\\openapi\\shared\\api_client.py:175\u001b[0m, in \u001b[0;36mApiClient.__call_api\u001b[1;34m(self, resource_path, method, path_params, query_params, header_params, body, post_params, files, response_type, auth_settings, _return_http_data_only, collection_formats, _preload_content, _request_timeout, _host, _check_type)\u001b[0m\n\u001b[0;32m    171\u001b[0m     url \u001b[38;5;241m=\u001b[39m _host \u001b[38;5;241m+\u001b[39m resource_path\n\u001b[0;32m    173\u001b[0m \u001b[38;5;28;01mtry\u001b[39;00m:\n\u001b[0;32m    174\u001b[0m     \u001b[38;5;66;03m# perform request and return response\u001b[39;00m\n\u001b[1;32m--> 175\u001b[0m     response_data \u001b[38;5;241m=\u001b[39m \u001b[38;5;28;43mself\u001b[39;49m\u001b[38;5;241;43m.\u001b[39;49m\u001b[43mrequest\u001b[49m\u001b[43m(\u001b[49m\n\u001b[0;32m    176\u001b[0m \u001b[43m        \u001b[49m\u001b[43mmethod\u001b[49m\u001b[43m,\u001b[49m\n\u001b[0;32m    177\u001b[0m \u001b[43m        \u001b[49m\u001b[43murl\u001b[49m\u001b[43m,\u001b[49m\n\u001b[0;32m    178\u001b[0m \u001b[43m        \u001b[49m\u001b[43mquery_params\u001b[49m\u001b[38;5;241;43m=\u001b[39;49m\u001b[43mquery_params\u001b[49m\u001b[43m,\u001b[49m\n\u001b[0;32m    179\u001b[0m \u001b[43m        \u001b[49m\u001b[43mheaders\u001b[49m\u001b[38;5;241;43m=\u001b[39;49m\u001b[43mheader_params\u001b[49m\u001b[43m,\u001b[49m\n\u001b[0;32m    180\u001b[0m \u001b[43m        \u001b[49m\u001b[43mpost_params\u001b[49m\u001b[38;5;241;43m=\u001b[39;49m\u001b[43mpost_params\u001b[49m\u001b[43m,\u001b[49m\n\u001b[0;32m    181\u001b[0m \u001b[43m        \u001b[49m\u001b[43mbody\u001b[49m\u001b[38;5;241;43m=\u001b[39;49m\u001b[43mbody\u001b[49m\u001b[43m,\u001b[49m\n\u001b[0;32m    182\u001b[0m \u001b[43m        \u001b[49m\u001b[43m_preload_content\u001b[49m\u001b[38;5;241;43m=\u001b[39;49m\u001b[43m_preload_content\u001b[49m\u001b[43m,\u001b[49m\n\u001b[0;32m    183\u001b[0m \u001b[43m        \u001b[49m\u001b[43m_request_timeout\u001b[49m\u001b[38;5;241;43m=\u001b[39;49m\u001b[43m_request_timeout\u001b[49m\u001b[43m,\u001b[49m\n\u001b[0;32m    184\u001b[0m \u001b[43m    \u001b[49m\u001b[43m)\u001b[49m\n\u001b[0;32m    185\u001b[0m \u001b[38;5;28;01mexcept\u001b[39;00m PineconeApiException \u001b[38;5;28;01mas\u001b[39;00m e:\n\u001b[0;32m    186\u001b[0m     e\u001b[38;5;241m.\u001b[39mbody \u001b[38;5;241m=\u001b[39m e\u001b[38;5;241m.\u001b[39mbody\u001b[38;5;241m.\u001b[39mdecode(\u001b[38;5;124m\"\u001b[39m\u001b[38;5;124mutf-8\u001b[39m\u001b[38;5;124m\"\u001b[39m)\n",
      "File \u001b[1;32mc:\\Users\\georg\\virtual-environments\\conversifai-demos-venv\\lib\\site-packages\\pinecone\\core\\openapi\\shared\\api_client.py:460\u001b[0m, in \u001b[0;36mApiClient.request\u001b[1;34m(self, method, url, query_params, headers, post_params, body, _preload_content, _request_timeout)\u001b[0m\n\u001b[0;32m    450\u001b[0m     \u001b[38;5;28;01mreturn\u001b[39;00m \u001b[38;5;28mself\u001b[39m\u001b[38;5;241m.\u001b[39mrest_client\u001b[38;5;241m.\u001b[39mOPTIONS(\n\u001b[0;32m    451\u001b[0m         url,\n\u001b[0;32m    452\u001b[0m         query_params\u001b[38;5;241m=\u001b[39mquery_params,\n\u001b[1;32m   (...)\u001b[0m\n\u001b[0;32m    457\u001b[0m         body\u001b[38;5;241m=\u001b[39mbody,\n\u001b[0;32m    458\u001b[0m     )\n\u001b[0;32m    459\u001b[0m \u001b[38;5;28;01melif\u001b[39;00m method \u001b[38;5;241m==\u001b[39m \u001b[38;5;124m\"\u001b[39m\u001b[38;5;124mPOST\u001b[39m\u001b[38;5;124m\"\u001b[39m:\n\u001b[1;32m--> 460\u001b[0m     \u001b[38;5;28;01mreturn\u001b[39;00m \u001b[38;5;28;43mself\u001b[39;49m\u001b[38;5;241;43m.\u001b[39;49m\u001b[43mrest_client\u001b[49m\u001b[38;5;241;43m.\u001b[39;49m\u001b[43mPOST\u001b[49m\u001b[43m(\u001b[49m\n\u001b[0;32m    461\u001b[0m \u001b[43m        \u001b[49m\u001b[43murl\u001b[49m\u001b[43m,\u001b[49m\n\u001b[0;32m    462\u001b[0m \u001b[43m        \u001b[49m\u001b[43mquery_params\u001b[49m\u001b[38;5;241;43m=\u001b[39;49m\u001b[43mquery_params\u001b[49m\u001b[43m,\u001b[49m\n\u001b[0;32m    463\u001b[0m \u001b[43m        \u001b[49m\u001b[43mheaders\u001b[49m\u001b[38;5;241;43m=\u001b[39;49m\u001b[43mheaders\u001b[49m\u001b[43m,\u001b[49m\n\u001b[0;32m    464\u001b[0m \u001b[43m        \u001b[49m\u001b[43mpost_params\u001b[49m\u001b[38;5;241;43m=\u001b[39;49m\u001b[43mpost_params\u001b[49m\u001b[43m,\u001b[49m\n\u001b[0;32m    465\u001b[0m \u001b[43m        \u001b[49m\u001b[43m_preload_content\u001b[49m\u001b[38;5;241;43m=\u001b[39;49m\u001b[43m_preload_content\u001b[49m\u001b[43m,\u001b[49m\n\u001b[0;32m    466\u001b[0m \u001b[43m        \u001b[49m\u001b[43m_request_timeout\u001b[49m\u001b[38;5;241;43m=\u001b[39;49m\u001b[43m_request_timeout\u001b[49m\u001b[43m,\u001b[49m\n\u001b[0;32m    467\u001b[0m \u001b[43m        \u001b[49m\u001b[43mbody\u001b[49m\u001b[38;5;241;43m=\u001b[39;49m\u001b[43mbody\u001b[49m\u001b[43m,\u001b[49m\n\u001b[0;32m    468\u001b[0m \u001b[43m    \u001b[49m\u001b[43m)\u001b[49m\n\u001b[0;32m    469\u001b[0m \u001b[38;5;28;01melif\u001b[39;00m method \u001b[38;5;241m==\u001b[39m \u001b[38;5;124m\"\u001b[39m\u001b[38;5;124mPUT\u001b[39m\u001b[38;5;124m\"\u001b[39m:\n\u001b[0;32m    470\u001b[0m     \u001b[38;5;28;01mreturn\u001b[39;00m \u001b[38;5;28mself\u001b[39m\u001b[38;5;241m.\u001b[39mrest_client\u001b[38;5;241m.\u001b[39mPUT(\n\u001b[0;32m    471\u001b[0m         url,\n\u001b[0;32m    472\u001b[0m         query_params\u001b[38;5;241m=\u001b[39mquery_params,\n\u001b[1;32m   (...)\u001b[0m\n\u001b[0;32m    477\u001b[0m         body\u001b[38;5;241m=\u001b[39mbody,\n\u001b[0;32m    478\u001b[0m     )\n",
      "File \u001b[1;32mc:\\Users\\georg\\virtual-environments\\conversifai-demos-venv\\lib\\site-packages\\pinecone\\core\\openapi\\shared\\rest.py:345\u001b[0m, in \u001b[0;36mRESTClientObject.POST\u001b[1;34m(self, url, headers, query_params, post_params, body, _preload_content, _request_timeout)\u001b[0m\n\u001b[0;32m    335\u001b[0m \u001b[38;5;28;01mdef\u001b[39;00m \u001b[38;5;21mPOST\u001b[39m(\n\u001b[0;32m    336\u001b[0m     \u001b[38;5;28mself\u001b[39m,\n\u001b[0;32m    337\u001b[0m     url,\n\u001b[1;32m   (...)\u001b[0m\n\u001b[0;32m    343\u001b[0m     _request_timeout\u001b[38;5;241m=\u001b[39m\u001b[38;5;28;01mNone\u001b[39;00m,\n\u001b[0;32m    344\u001b[0m ):\n\u001b[1;32m--> 345\u001b[0m     \u001b[38;5;28;01mreturn\u001b[39;00m \u001b[38;5;28;43mself\u001b[39;49m\u001b[38;5;241;43m.\u001b[39;49m\u001b[43mrequest\u001b[49m\u001b[43m(\u001b[49m\n\u001b[0;32m    346\u001b[0m \u001b[43m        \u001b[49m\u001b[38;5;124;43m\"\u001b[39;49m\u001b[38;5;124;43mPOST\u001b[39;49m\u001b[38;5;124;43m\"\u001b[39;49m\u001b[43m,\u001b[49m\n\u001b[0;32m    347\u001b[0m \u001b[43m        \u001b[49m\u001b[43murl\u001b[49m\u001b[43m,\u001b[49m\n\u001b[0;32m    348\u001b[0m \u001b[43m        \u001b[49m\u001b[43mheaders\u001b[49m\u001b[38;5;241;43m=\u001b[39;49m\u001b[43mheaders\u001b[49m\u001b[43m,\u001b[49m\n\u001b[0;32m    349\u001b[0m \u001b[43m        \u001b[49m\u001b[43mquery_params\u001b[49m\u001b[38;5;241;43m=\u001b[39;49m\u001b[43mquery_params\u001b[49m\u001b[43m,\u001b[49m\n\u001b[0;32m    350\u001b[0m \u001b[43m        \u001b[49m\u001b[43mpost_params\u001b[49m\u001b[38;5;241;43m=\u001b[39;49m\u001b[43mpost_params\u001b[49m\u001b[43m,\u001b[49m\n\u001b[0;32m    351\u001b[0m \u001b[43m        \u001b[49m\u001b[43m_preload_content\u001b[49m\u001b[38;5;241;43m=\u001b[39;49m\u001b[43m_preload_content\u001b[49m\u001b[43m,\u001b[49m\n\u001b[0;32m    352\u001b[0m \u001b[43m        \u001b[49m\u001b[43m_request_timeout\u001b[49m\u001b[38;5;241;43m=\u001b[39;49m\u001b[43m_request_timeout\u001b[49m\u001b[43m,\u001b[49m\n\u001b[0;32m    353\u001b[0m \u001b[43m        \u001b[49m\u001b[43mbody\u001b[49m\u001b[38;5;241;43m=\u001b[39;49m\u001b[43mbody\u001b[49m\u001b[43m,\u001b[49m\n\u001b[0;32m    354\u001b[0m \u001b[43m    \u001b[49m\u001b[43m)\u001b[49m\n",
      "File \u001b[1;32mc:\\Users\\georg\\virtual-environments\\conversifai-demos-venv\\lib\\site-packages\\pinecone\\core\\openapi\\shared\\rest.py:279\u001b[0m, in \u001b[0;36mRESTClientObject.request\u001b[1;34m(self, method, url, query_params, headers, body, post_params, _preload_content, _request_timeout)\u001b[0m\n\u001b[0;32m    276\u001b[0m     \u001b[38;5;28;01mif\u001b[39;00m \u001b[38;5;241m500\u001b[39m \u001b[38;5;241m<\u001b[39m\u001b[38;5;241m=\u001b[39m r\u001b[38;5;241m.\u001b[39mstatus \u001b[38;5;241m<\u001b[39m\u001b[38;5;241m=\u001b[39m \u001b[38;5;241m599\u001b[39m:\n\u001b[0;32m    277\u001b[0m         \u001b[38;5;28;01mraise\u001b[39;00m ServiceException(http_resp\u001b[38;5;241m=\u001b[39mr)\n\u001b[1;32m--> 279\u001b[0m     \u001b[38;5;28;01mraise\u001b[39;00m PineconeApiException(http_resp\u001b[38;5;241m=\u001b[39mr)\n\u001b[0;32m    281\u001b[0m \u001b[38;5;28;01mreturn\u001b[39;00m r\n",
      "\u001b[1;31mPineconeApiException\u001b[0m: (400)\nReason: Bad Request\nHTTP response headers: HTTPHeaderDict({'Date': 'Thu, 21 Nov 2024 04:39:11 GMT', 'Content-Type': 'text/plain', 'Content-Length': '80', 'Connection': 'keep-alive', 'server': 'envoy'})\nHTTP response body: Unexpected token.\n16c669\", \"values\": [NaN, NaN, NaN, NaN, \n                    ^\n"
     ]
    }
   ],
   "source": [
    "vector_store = PineconeVectorStore(pinecone_index=pinecone_index)\n",
    "storage_context = StorageContext.from_defaults(vector_store=vector_store)\n",
    "index = VectorStoreIndex.from_documents(documents=docs[0:10],\n",
    "                                        storage_context=storage_context,\n",
    "                                        show_progress=True)"
   ]
  }
 ],
 "metadata": {
  "kernelspec": {
   "display_name": "conversifai-demos-venv",
   "language": "python",
   "name": "python3"
  },
  "language_info": {
   "codemirror_mode": {
    "name": "ipython",
    "version": 3
   },
   "file_extension": ".py",
   "mimetype": "text/x-python",
   "name": "python",
   "nbconvert_exporter": "python",
   "pygments_lexer": "ipython3",
   "version": "3.10.11"
  }
 },
 "nbformat": 4,
 "nbformat_minor": 2
}
